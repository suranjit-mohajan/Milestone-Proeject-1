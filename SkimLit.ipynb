{
 "cells": [
  {
   "cell_type": "markdown",
   "id": "c2ce2837",
   "metadata": {},
   "source": [
    " \n",
    "## Objective: \n",
    "- Replicate deep learning models from PubMed 200k RCT: a dataset for Sequential Sentence Classification in Medical Abstracts.\n",
    "        - https://arxiv.org/abs/1710.06071\n",
    "        \n",
    "    - Model is expected to transform regular abstracts to classified abstracts by predicting the section label for each sentence.\n"
   ]
  },
  {
   "cell_type": "markdown",
   "id": "b25943d5",
   "metadata": {},
   "source": [
    "## Experiment Steps\n",
    "- Download a text dataset (PubMed 200k RCT)\n",
    "- Write a preprocessing function for the text data\n",
    "- Set up multiple modeling experiments with different levels of embeddings\n",
    "- Build a multimodal model to take in different sources of data\n",
    "    - model replicates the architecture from \n",
    "        - https://arxiv.org/pdf/1612.05251.pdf\n",
    "- Evaluate model on most wrong predictions\n",
    "- Make predictions on PubMed abstacts from the wild "
   ]
  },
  {
   "cell_type": "markdown",
   "id": "fd114f0c",
   "metadata": {},
   "source": [
    "## Import Tools"
   ]
  },
  {
   "cell_type": "code",
   "execution_count": 1,
   "id": "abe17087",
   "metadata": {},
   "outputs": [
    {
     "name": "stderr",
     "output_type": "stream",
     "text": [
      "2023-05-21 20:35:55.683862: I tensorflow/core/platform/cpu_feature_guard.cc:193] This TensorFlow binary is optimized with oneAPI Deep Neural Network Library (oneDNN) to use the following CPU instructions in performance-critical operations:  SSE4.1 SSE4.2\n",
      "To enable them in other operations, rebuild TensorFlow with the appropriate compiler flags.\n"
     ]
    }
   ],
   "source": [
    "import tensorflow as tf \n",
    "import pandas as pd\n",
    "import numpy as np\n",
    "import matplotlib.pyplot as plt\n",
    "import random\n",
    "import os\n",
    "import datetime\n",
    "import sklearn\n",
    "import time\n",
    "import helper_functions\n",
    "import warnings\n",
    "warnings.filterwarnings(\"ignore\", category=DeprecationWarning)"
   ]
  },
  {
   "cell_type": "markdown",
   "id": "4528d9c2",
   "metadata": {},
   "source": [
    "## Data\n",
    "\n",
    "- Dataset is available at \n",
    "    - https://github.com/Franck-Dernoncourt/pubmed-rct"
   ]
  },
  {
   "cell_type": "markdown",
   "id": "f6a1023e",
   "metadata": {},
   "source": [
    "### Clone and View available files"
   ]
  },
  {
   "cell_type": "code",
   "execution_count": 2,
   "id": "bc447b94",
   "metadata": {},
   "outputs": [
    {
     "name": "stdout",
     "output_type": "stream",
     "text": [
      "dev.txt   test.txt  train.txt\r\n"
     ]
    }
   ],
   "source": [
    "#!git clone https://github.com/Franck-Dernoncourt/pubmed-rct\n",
    "data_dir = \"pubmed-rct/PubMed_20k_RCT_numbers_replaced_with_at_sign/\"\n",
    "filenames = [data_dir+file for file in os.listdir(data_dir)]\n",
    "!ls pubmed-rct/PubMed_20k_RCT_numbers_replaced_with_at_sign"
   ]
  },
  {
   "cell_type": "markdown",
   "id": "18414962",
   "metadata": {},
   "source": [
    "## Preprocess Data"
   ]
  },
  {
   "cell_type": "code",
   "execution_count": 3,
   "id": "d8655fdb",
   "metadata": {},
   "outputs": [],
   "source": [
    "def get_lines(filename):\n",
    "\n",
    "    ''' Reads text file path and returns the text in a list'''\n",
    "    \n",
    "    with open(filename, \"r\") as f:\n",
    "        return f.readlines()   "
   ]
  },
  {
   "cell_type": "code",
   "execution_count": 4,
   "id": "b7aa1d95",
   "metadata": {},
   "outputs": [],
   "source": [
    "def preprocess_text_with_line_numbers(filename):\n",
    "    \n",
    "    '''\n",
    "    Reads the given text file path and returns a list of dictionaries \n",
    "    for each abstract's sentences including their\n",
    "    \n",
    "    \n",
    "    - the classified label, target\n",
    "    - the sentence, text\n",
    "    - line number in abstract\n",
    "    - total lines in abstract\n",
    "    \n",
    "    \n",
    "    ex. {\"target\": 'CONCLUSION',\n",
    "        \"text\": The study couldn't have gone better, turns out people are kinder than you think\",\n",
    "        \"line_number\": 8,\n",
    "        \"total_lines\": 8}\n",
    "    \n",
    "    '''\n",
    "    \n",
    "    lines = get_lines(filename) # reads text file path and returns the text in a list\n",
    "    abs_lines = \"\" # empty abstract to store abstract contents\n",
    "    text_list = [] # empty list to store abstracts\n",
    "\n",
    "\n",
    "    for item in (lines):\n",
    "\n",
    "        if item.startswith(\"###\"):  # checks if line is ID for new abstract\n",
    "            abs_lines = \"\" # empties out abstract string\n",
    "\n",
    "\n",
    "        elif item == (\"\\n\"): # checks if line is a new line\n",
    " \n",
    "            for num, lines in enumerate(abs_lines.splitlines()): #split into individual numbered lines\n",
    "                target, text = lines.split(\"\\t\") #separate line into label and sentence\n",
    "\n",
    "                dict = {\n",
    "                \"target\":target, #store label \n",
    "                \"text\" : text.lower(), #store sentence\n",
    "                \"line_number\": num, # store line number\n",
    "                \"total_lines\":len(abs_lines.splitlines())-1 #store total sentences\n",
    "                 }\n",
    "\n",
    "                text_list.append(dict) # add abstract details to text list\n",
    "\n",
    "\n",
    "\n",
    "        else:  # if line isn't an ID or new line\n",
    "         abs_lines += item #store lines in empty abstract\n",
    " \n",
    " \n",
    "    return text_list "
   ]
  },
  {
   "cell_type": "markdown",
   "id": "d0f88d04",
   "metadata": {},
   "source": [
    "### Preprocess and store samples in Pandas Dataframe"
   ]
  },
  {
   "cell_type": "code",
   "execution_count": 5,
   "id": "999256f2",
   "metadata": {},
   "outputs": [],
   "source": [
    "#preprocess samples\n",
    "train_samples = preprocess_text_with_line_numbers(data_dir + \"train.txt\")\n",
    "val_samples = preprocess_text_with_line_numbers(data_dir + \"dev.txt\") # dev is another name for validation set\n",
    "test_samples = preprocess_text_with_line_numbers(data_dir + \"test.txt\")\n",
    "\n",
    "#store samples in DF\n",
    "train_df = pd.DataFrame(train_samples)\n",
    "val_df = pd.DataFrame(val_samples)\n",
    "test_df = pd.DataFrame(test_samples)\n",
    " "
   ]
  },
  {
   "cell_type": "markdown",
   "id": "69d928a0",
   "metadata": {},
   "source": [
    "### Create lists of Train, Validation and Test Sentence's  Words and Characters"
   ]
  },
  {
   "cell_type": "code",
   "execution_count": 6,
   "id": "5c289851",
   "metadata": {},
   "outputs": [],
   "source": [
    "#list of words \n",
    "train_sentences = train_df[\"text\"].tolist()\n",
    "val_sentences = val_df[\"text\"].tolist()\n",
    "test_sentences = test_df[\"text\"].tolist()\n",
    "\n",
    "#list of characters\n",
    "train_chars = [\" \".join(list(sentence)) for sentence in train_sentences]\n",
    "val_chars = [\" \".join(list(sentence)) for sentence in val_sentences]\n",
    "test_chars = [\" \".join(list(sentence)) for sentence in test_sentences]"
   ]
  },
  {
   "cell_type": "markdown",
   "id": "b0cfc71f",
   "metadata": {},
   "source": [
    "### Convert targets to Numerical Data using Sklearn\n",
    "   - One hot encode \n",
    "   - Label encode"
   ]
  },
  {
   "cell_type": "markdown",
   "id": "56360d4c",
   "metadata": {},
   "source": [
    "### One hot encode"
   ]
  },
  {
   "cell_type": "code",
   "execution_count": 7,
   "id": "620bfaed",
   "metadata": {},
   "outputs": [
    {
     "name": "stderr",
     "output_type": "stream",
     "text": [
      "/Users/suranjitmohajan/anaconda3/envs/py3/lib/python3.10/site-packages/sklearn/preprocessing/_encoders.py:868: FutureWarning: `sparse` was renamed to `sparse_output` in version 1.2 and will be removed in 1.4. `sparse_output` is ignored unless you leave `sparse` to its default value.\n",
      "  warnings.warn(\n"
     ]
    }
   ],
   "source": [
    "#import one hot encoder\n",
    "from sklearn.preprocessing import OneHotEncoder\n",
    "one_hot_encoder = OneHotEncoder(sparse=False)\n",
    "\n",
    "train_labels_one_hot = one_hot_encoder.fit_transform(train_df.target.to_numpy().reshape(-1,1))\n",
    "val_labels_one_hot = one_hot_encoder.transform(val_df.target.to_numpy().reshape(-1,1))\n",
    "test_labels_one_hot = one_hot_encoder.transform(test_df.target.to_numpy().reshape([-1,1]))"
   ]
  },
  {
   "cell_type": "markdown",
   "id": "1386823c",
   "metadata": {},
   "source": [
    "### Label encode"
   ]
  },
  {
   "cell_type": "code",
   "execution_count": 8,
   "id": "a263ddcc",
   "metadata": {},
   "outputs": [],
   "source": [
    "#import label encoder\n",
    "from sklearn.preprocessing import LabelEncoder\n",
    "label_encoder = LabelEncoder()\n",
    "\n",
    "train_labels_encoded = label_encoder.fit_transform(train_df[\"target\"].to_numpy())\n",
    "val_labels_encoded = label_encoder.transform(val_df[\"target\"].to_numpy())\n",
    "test_labels_encoded = label_encoder.transform(test_df[\"target\"].to_numpy())"
   ]
  },
  {
   "cell_type": "markdown",
   "id": "51026cd7",
   "metadata": {},
   "source": [
    "### Class names and number of classes"
   ]
  },
  {
   "cell_type": "code",
   "execution_count": 9,
   "id": "9c93fb0f",
   "metadata": {},
   "outputs": [],
   "source": [
    "class_names = label_encoder.classes_\n",
    "num_classes = len(label_encoder.classes_)"
   ]
  },
  {
   "cell_type": "markdown",
   "id": "31c44756",
   "metadata": {},
   "source": [
    "## Data exploration\n",
    "- Word level\n",
    "- Character level\n",
    "- Position level"
   ]
  },
  {
   "cell_type": "markdown",
   "id": "46018ec6",
   "metadata": {},
   "source": [
    "## Word level exploration"
   ]
  },
  {
   "cell_type": "markdown",
   "id": "93493ceb",
   "metadata": {},
   "source": [
    "#### Find the average number of words per sentence "
   ]
  },
  {
   "cell_type": "code",
   "execution_count": 15,
   "id": "583ca740",
   "metadata": {},
   "outputs": [],
   "source": [
    "sent_lens = [len(sentence.split()) for sentence in train_sentences]\n",
    "avg_sen_len = round(np.mean(sent_lens))"
   ]
  },
  {
   "cell_type": "markdown",
   "id": "40241750",
   "metadata": {},
   "source": [
    "#### Observation: \n",
    "- Average sentence has about 26 words"
   ]
  },
  {
   "cell_type": "markdown",
   "id": "399284ed",
   "metadata": {},
   "source": [
    "#### Distribution of sentence lengths\n"
   ]
  },
  {
   "cell_type": "code",
   "execution_count": 16,
   "id": "f8ee6eb4",
   "metadata": {},
   "outputs": [
    {
     "data": {
      "image/png": "[encoded data removed]",
      "text/plain": [
       "<Figure size 640x480 with 1 Axes>"
      ]
     },
     "metadata": {},
     "output_type": "display_data"
    }
   ],
   "source": [
    " plt.hist(sent_lens, bins=5);"
   ]
  },
  {
   "cell_type": "code",
   "execution_count": 17,
   "id": "8600f877",
   "metadata": {},
   "outputs": [
    {
     "data": {
      "text/plain": [
       "55"
      ]
     },
     "execution_count": 17,
     "metadata": {},
     "output_type": "execute_result"
    }
   ],
   "source": [
    "output_seq_len = int(np.percentile(sent_lens, 95))\n",
    "output_seq_len"
   ]
  },
  {
   "cell_type": "markdown",
   "id": "df2e3c6b",
   "metadata": {},
   "source": [
    "#### Observation: \n",
    "- Majority of the sentences are below 50 words\n",
    "- 95 percent of sentences have between 0-55 words"
   ]
  },
  {
   "cell_type": "markdown",
   "id": "23a83546",
   "metadata": {},
   "source": [
    "\n",
    "## Character level exploration"
   ]
  },
  {
   "cell_type": "markdown",
   "id": "4fe2157f",
   "metadata": {},
   "source": [
    "#### Find the average number of characters per sentence "
   ]
  },
  {
   "cell_type": "code",
   "execution_count": 18,
   "id": "2888cd7b",
   "metadata": {},
   "outputs": [],
   "source": [
    "char_lens = [len(sentence) for sentence in train_sentences]\n",
    "avg_char_len = round(np.mean(char_lens))"
   ]
  },
  {
   "cell_type": "markdown",
   "id": "73757fd4",
   "metadata": {},
   "source": [
    "#### Observation: \n",
    "- Average sentence has about 149 characters"
   ]
  },
  {
   "cell_type": "markdown",
   "id": "ae7c6b25",
   "metadata": {},
   "source": [
    "#### Distribution of sentence lengths\n"
   ]
  },
  {
   "cell_type": "code",
   "execution_count": 19,
   "id": "026e5179",
   "metadata": {},
   "outputs": [
    {
     "data": {
      "image/png": "[encoded data removed]",
      "text/plain": [
       "<Figure size 640x480 with 1 Axes>"
      ]
     },
     "metadata": {},
     "output_type": "display_data"
    }
   ],
   "source": [
    "plt.hist(char_lens, bins = 7);"
   ]
  },
  {
   "cell_type": "code",
   "execution_count": 20,
   "id": "fe32e500",
   "metadata": {},
   "outputs": [
    {
     "data": {
      "text/plain": [
       "290"
      ]
     },
     "execution_count": 20,
     "metadata": {},
     "output_type": "execute_result"
    }
   ],
   "source": [
    "output_chars_len = int(np.percentile(char_lens, 95))\n",
    "output_chars_len"
   ]
  },
  {
   "cell_type": "markdown",
   "id": "8397d202",
   "metadata": {},
   "source": [
    "#### Observation: \n",
    "- Majority of the sentences are below 500 characters\n",
    "- 95 percent of sentences have between 0-290 characters"
   ]
  },
  {
   "cell_type": "markdown",
   "id": "5d384640",
   "metadata": {},
   "source": [
    "## Positional level exploration"
   ]
  },
  {
   "cell_type": "markdown",
   "id": "c4311525",
   "metadata": {},
   "source": [
    "### Text line number\n",
    "- how many different line numbers in the dataframe?\n",
    "- check data distribution\n",
    "    "
   ]
  },
  {
   "cell_type": "code",
   "execution_count": 21,
   "id": "abb8176a",
   "metadata": {},
   "outputs": [
    {
     "data": {
      "text/plain": [
       "15.0"
      ]
     },
     "execution_count": 21,
     "metadata": {},
     "output_type": "execute_result"
    }
   ],
   "source": [
    "train_df.line_number.value_counts()\n",
    "np.percentile(train_df.line_number, 98)"
   ]
  },
  {
   "cell_type": "code",
   "execution_count": 22,
   "id": "106e2f22",
   "metadata": {},
   "outputs": [
    {
     "data": {
      "image/png": "[encoded data removed]",
      "text/plain": [
       "<Figure size 640x480 with 1 Axes>"
      ]
     },
     "metadata": {},
     "output_type": "display_data"
    }
   ],
   "source": [
    "train_df.line_number.plot.hist(bins=9);"
   ]
  },
  {
   "cell_type": "markdown",
   "id": "283e8789",
   "metadata": {},
   "source": [
    "### Observation: \n",
    "- 98% of the text have an index of 15 or less sentences.\n"
   ]
  },
  {
   "cell_type": "markdown",
   "id": "b71267ca",
   "metadata": {},
   "source": [
    "### Total lines number\n",
    "- how many different total line numbers in the dataframe?\n",
    "- check data distribution\n",
    "   "
   ]
  },
  {
   "cell_type": "code",
   "execution_count": 23,
   "id": "398f51b0",
   "metadata": {},
   "outputs": [
    {
     "data": {
      "text/plain": [
       "20.0"
      ]
     },
     "execution_count": 23,
     "metadata": {},
     "output_type": "execute_result"
    }
   ],
   "source": [
    "train_df.total_lines.value_counts()\n",
    "np.percentile(train_df.total_lines, 98)"
   ]
  },
  {
   "cell_type": "code",
   "execution_count": 24,
   "id": "130ac136",
   "metadata": {},
   "outputs": [
    {
     "data": {
      "image/png": "[encoded data removed]",
      "text/plain": [
       "<Figure size 640x480 with 1 Axes>"
      ]
     },
     "metadata": {},
     "output_type": "display_data"
    }
   ],
   "source": [
    "train_df.total_lines.plot.hist();"
   ]
  },
  {
   "cell_type": "markdown",
   "id": "bbbdf268",
   "metadata": {},
   "source": [
    "### Observation: \n",
    "- 98% of the abstracts have a total of 20 lines\n"
   ]
  },
  {
   "cell_type": "markdown",
   "id": "54cf6e35",
   "metadata": {},
   "source": [
    "## Convert inputs to Numerical Data \n",
    "- pubmed 20k\n",
    "    - positional level\n",
    "        - line number\n",
    "        - total lines\n",
    "    - word level\n",
    "        - text's words\n",
    "    - character level\n",
    "        - text's characters"
   ]
  },
  {
   "cell_type": "markdown",
   "id": "a5bb8154",
   "metadata": {},
   "source": [
    "### Positional level - line number - one hot encode"
   ]
  },
  {
   "cell_type": "code",
   "execution_count": 25,
   "id": "48ffb73e",
   "metadata": {},
   "outputs": [
    {
     "name": "stderr",
     "output_type": "stream",
     "text": [
      "2023-04-01 19:33:07.580969: I tensorflow/core/platform/cpu_feature_guard.cc:193] This TensorFlow binary is optimized with oneAPI Deep Neural Network Library (oneDNN) to use the following CPU instructions in performance-critical operations:  SSE4.1 SSE4.2\n",
      "To enable them in other operations, rebuild TensorFlow with the appropriate compiler flags.\n"
     ]
    }
   ],
   "source": [
    "train_line_number_one_hot = tf.one_hot(train_df.line_number.to_numpy(), depth=15)\n",
    "val_line_number_one_hot = tf.one_hot(val_df.line_number.to_numpy(), depth=15)\n",
    "test_line_number_one_hot = tf.one_hot(test_df.line_number.to_numpy(), depth=15)\n"
   ]
  },
  {
   "cell_type": "markdown",
   "id": "3efa3058",
   "metadata": {},
   "source": [
    "### Positional level - total lines - one hot encode"
   ]
  },
  {
   "cell_type": "code",
   "execution_count": 26,
   "id": "00bedc6e",
   "metadata": {},
   "outputs": [],
   "source": [
    "train_total_lines_one_hot = tf.one_hot(train_df.total_lines.to_numpy(), depth=20)\n",
    "val_total_lines_one_hot = tf.one_hot(val_df.total_lines.to_numpy(), depth=20)\n",
    "test_total_lines_one_hot = tf.one_hot(test_df.total_lines.to_numpy(), depth=20)\n"
   ]
  },
  {
   "cell_type": "markdown",
   "id": "6c7f4f2d",
   "metadata": {},
   "source": [
    "## Word level - Text Vectorization \n",
    "\n",
    "#### Instantiate and adapt text vectorizer\n",
    "\n",
    "- How many words are in our vocabulary? \n",
    "   -  max_tokens | V | 68,000\n",
    "   - taken from 3.2 in https://arxiv.org/pdf/1710.06071.pdf\n",
    "    \n",
    "- How many words in the output seq?\n",
    "    - 55, from the 95% percentile\n"
   ]
  },
  {
   "cell_type": "code",
   "execution_count": 27,
   "id": "cb93a195",
   "metadata": {},
   "outputs": [],
   "source": [
    "max_tokens = 68000\n",
    " \n",
    "from tensorflow.keras.layers.experimental.preprocessing import  TextVectorization\n",
    "\n",
    "\n",
    "text_vectorizer = TextVectorization(max_tokens = max_tokens,\n",
    "                                   output_mode = \"int\",\n",
    "                                   output_sequence_length = output_seq_len,\n",
    "                                   name= \"text_vectorizer\"\n",
    "                                   )\n",
    "                                    \n",
    "text_vectorizer.adapt(train_sentences)                       \n",
    "                                    "
   ]
  },
  {
   "cell_type": "markdown",
   "id": "148d992b",
   "metadata": {},
   "source": [
    "## Character level - Text Vectorization \n",
    "\n",
    "#### Instantiate and adapt char vectorizer\n",
    "\n",
    "   - How many characters are in our vocabulary? -  max_tokens \n",
    "       - length of\n",
    "           - alphabet\n",
    "           - digits\n",
    "           - punctuations\n",
    "       - space and OOV\n",
    "     \n",
    "   - How many characters in the output seq?\n",
    "    - 290, from the 95% percentile\n"
   ]
  },
  {
   "cell_type": "code",
   "execution_count": 28,
   "id": "8bc6f537",
   "metadata": {},
   "outputs": [],
   "source": [
    "import string\n",
    "max_chars=len(string.ascii_lowercase + string.digits + string.punctuation) + len(\" \") + len([\"OOV\"])   "
   ]
  },
  {
   "cell_type": "code",
   "execution_count": 29,
   "id": "ad131da2",
   "metadata": {},
   "outputs": [],
   "source": [
    "max_tokens = max_chars\n",
    "output_seq_len = output_chars_len\n",
    " \n",
    "from tensorflow.keras.layers.experimental.preprocessing import  TextVectorization\n",
    "\n",
    "\n",
    "char_vectorizer = TextVectorization(max_tokens = max_tokens,\n",
    "                                   output_mode = \"int\",\n",
    "                                   output_sequence_length = output_seq_len, \n",
    "                                   standardize = \"lower_and_strip_punctuation\",\n",
    "                                   name= \"char_vectorizer\"\n",
    "                                   )\n",
    "                                    \n",
    "char_vectorizer.adapt(train_chars)                       \n",
    "                                    "
   ]
  },
  {
   "cell_type": "markdown",
   "id": "3c31cf9d",
   "metadata": {},
   "source": [
    "### Tokenize Sample Sentence\n"
   ]
  },
  {
   "cell_type": "code",
   "execution_count": 30,
   "id": "0c45d7ba",
   "metadata": {},
   "outputs": [
    {
     "name": "stdout",
     "output_type": "stream",
     "text": [
      "Original random sentence: \n",
      "'suboptimal vitamin d status is highly prevalent in northern communities , particularly in those patients with chronic diseases such as diabetes and chronic renal disease .' \n",
      "\n",
      "Length of Original random sentence: 26 \n",
      "\n",
      "Text Vectorized random sentence: \n",
      " '[[3274  412  187  272   20  862 1998    5 5724 2566 1057    5  125   12\n",
      "     7  244 1298  345   25  223    3  244  474  114    0    0    0    0\n",
      "     0    0    0    0    0    0    0    0    0    0    0    0    0    0\n",
      "     0    0    0    0    0    0    0    0    0    0    0    0    0]]' \n"
     ]
    }
   ],
   "source": [
    "target_sentence = random.choice(train_sentences)\n",
    "print(f\"Original random sentence: \\n'{target_sentence}' \" )\n",
    "print(f\"\\nLength of Original random sentence: {len(target_sentence.split())} \" )\n",
    "print(f\"\\nText Vectorized random sentence: \\n '{text_vectorizer([target_sentence])}' \")      "
   ]
  },
  {
   "cell_type": "markdown",
   "id": "353b9a90",
   "metadata": {},
   "source": [
    "\n",
    "### Characterize Sample Sentence"
   ]
  },
  {
   "cell_type": "code",
   "execution_count": 31,
   "id": "f206a7f1",
   "metadata": {},
   "outputs": [
    {
     "name": "stdout",
     "output_type": "stream",
     "text": [
      "Original random sentence: \n",
      "all participants were fitted with the four different simcls ( air optix aqua multifocal -lsb- aoam ; alcon -rsb- , purevision multifocal -lsb- pm ; bausch & lomb -rsb- , acuvue oasys for presbyopia -lsb- aop ; johnson & johnson vision -rsb- , and biofinity multifocal -lsb- bm ; coopervision -rsb- ) and with monofocal contact lenses ( air optix aqua , alcon ) . \n",
      "\n",
      "Length of Original random sentence: 65 \n",
      "\n",
      "Char Vectorized random sentence: \n",
      " '[[1 1 1 1 1 1 1 1 1 1 1 1 1 1 1 1 1 1 1 1 1 1 1 1 1 1 1 1 1 1 1 1 1 1 1 1\n",
      "  1 1 1 1 1 1 1 1 1 1 1 1 1 1 0 0 0 0 0 0 0 0 0 0 0 0 0 0 0 0 0 0 0 0 0 0\n",
      "  0 0 0 0 0 0 0 0 0 0 0 0 0 0 0 0 0 0 0 0 0 0 0 0 0 0 0 0 0 0 0 0 0 0 0 0\n",
      "  0 0 0 0 0 0 0 0 0 0 0 0 0 0 0 0 0 0 0 0 0 0 0 0 0 0 0 0 0 0 0 0 0 0 0 0\n",
      "  0 0 0 0 0 0 0 0 0 0 0 0 0 0 0 0 0 0 0 0 0 0 0 0 0 0 0 0 0 0 0 0 0 0 0 0\n",
      "  0 0 0 0 0 0 0 0 0 0 0 0 0 0 0 0 0 0 0 0 0 0 0 0 0 0 0 0 0 0 0 0 0 0 0 0\n",
      "  0 0 0 0 0 0 0 0 0 0 0 0 0 0 0 0 0 0 0 0 0 0 0 0 0 0 0 0 0 0 0 0 0 0 0 0\n",
      "  0 0 0 0 0 0 0 0 0 0 0 0 0 0 0 0 0 0 0 0 0 0 0 0 0 0 0 0 0 0 0 0 0 0 0 0\n",
      "  0 0]]' \n"
     ]
    }
   ],
   "source": [
    "target_sentence = random.choice(train_sentences)\n",
    "print(f\"Original random sentence: \\n{target_sentence} \" )\n",
    "print(f\"\\nLength of Original random sentence: {len(target_sentence.split())} \" )\n",
    "print(f\"\\nChar Vectorized random sentence: \\n '{char_vectorizer([target_sentence])}' \")\n",
    "        "
   ]
  },
  {
   "cell_type": "markdown",
   "id": "a23c9395",
   "metadata": {},
   "source": [
    "### Explore tokens in vocabulary"
   ]
  },
  {
   "cell_type": "code",
   "execution_count": 32,
   "id": "67ad87fb",
   "metadata": {},
   "outputs": [
    {
     "name": "stdout",
     "output_type": "stream",
     "text": [
      "Total number of words in vocab: 64841\n",
      "Most common words ['', '[UNK]', 'the', 'and', 'of']\n",
      "Least common words ['aainduced', 'aaigroup', 'aachener', 'aachen', 'aaacp']\n"
     ]
    }
   ],
   "source": [
    "rct_20k_text_vocab = text_vectorizer.get_vocabulary()\n",
    "print(f\"Total number of words in vocab: {len(rct_20k_text_vocab)}\")\n",
    "print(f\"Most common words {rct_20k_text_vocab[:5]}\")\n",
    "print(f\"Least common words {rct_20k_text_vocab[-5:]}\")"
   ]
  },
  {
   "cell_type": "markdown",
   "id": "310ae904",
   "metadata": {},
   "source": [
    "### Explore characters in vocabulary"
   ]
  },
  {
   "cell_type": "code",
   "execution_count": 33,
   "id": "5502ee80",
   "metadata": {},
   "outputs": [
    {
     "name": "stdout",
     "output_type": "stream",
     "text": [
      "Number of different characters in character vocab: 28\n",
      "5 most common characters: ['', '[UNK]', 'e', 't', 'i']\n",
      "5 least common characters: ['k', 'x', 'z', 'q', 'j']\n"
     ]
    }
   ],
   "source": [
    "rct_20k_char_vocab = char_vectorizer.get_vocabulary()\n",
    "print(f\"Number of different characters in character vocab: {len(rct_20k_char_vocab)}\")\n",
    "print(f\"5 most common characters: {rct_20k_char_vocab[:5]}\")\n",
    "print(f\"5 least common characters: {rct_20k_char_vocab[-5:]}\")"
   ]
  },
  {
   "cell_type": "markdown",
   "id": "fe4f5e9f",
   "metadata": {},
   "source": [
    "###  Text Vectorizer Configurations"
   ]
  },
  {
   "cell_type": "code",
   "execution_count": 34,
   "id": "cf7e8e87",
   "metadata": {},
   "outputs": [
    {
     "data": {
      "text/plain": [
       "{'name': 'text_vectorizer',\n",
       " 'trainable': True,\n",
       " 'batch_input_shape': (None,),\n",
       " 'dtype': 'string',\n",
       " 'max_tokens': 68000,\n",
       " 'standardize': 'lower_and_strip_punctuation',\n",
       " 'split': 'whitespace',\n",
       " 'ngrams': None,\n",
       " 'output_mode': 'int',\n",
       " 'output_sequence_length': 55,\n",
       " 'pad_to_max_tokens': False,\n",
       " 'sparse': False,\n",
       " 'ragged': False,\n",
       " 'vocabulary': None,\n",
       " 'idf_weights': None}"
      ]
     },
     "execution_count": 34,
     "metadata": {},
     "output_type": "execute_result"
    }
   ],
   "source": [
    "text_vectorizer.get_config()"
   ]
  },
  {
   "cell_type": "markdown",
   "id": "60bde61f",
   "metadata": {},
   "source": [
    "###  Character Vectorizer Configurations"
   ]
  },
  {
   "cell_type": "code",
   "execution_count": 35,
   "id": "ea34adf5",
   "metadata": {},
   "outputs": [
    {
     "data": {
      "text/plain": [
       "{'name': 'char_vectorizer',\n",
       " 'trainable': True,\n",
       " 'batch_input_shape': (None,),\n",
       " 'dtype': 'string',\n",
       " 'max_tokens': 70,\n",
       " 'standardize': 'lower_and_strip_punctuation',\n",
       " 'split': 'whitespace',\n",
       " 'ngrams': None,\n",
       " 'output_mode': 'int',\n",
       " 'output_sequence_length': 290,\n",
       " 'pad_to_max_tokens': False,\n",
       " 'sparse': False,\n",
       " 'ragged': False,\n",
       " 'vocabulary': None,\n",
       " 'idf_weights': None}"
      ]
     },
     "execution_count": 35,
     "metadata": {},
     "output_type": "execute_result"
    }
   ],
   "source": [
    "char_vectorizer.get_config()    "
   ]
  },
  {
   "cell_type": "markdown",
   "id": "b8990dbc",
   "metadata": {},
   "source": [
    "## Embedding\n",
    "\n",
    "- Token level embedding\n",
    "- Character lebel embedding"
   ]
  },
  {
   "cell_type": "markdown",
   "id": "6730a59e",
   "metadata": {},
   "source": [
    "### Token Level Embedding"
   ]
  },
  {
   "cell_type": "code",
   "execution_count": 122,
   "id": "7f41cc3b",
   "metadata": {},
   "outputs": [],
   "source": [
    "from tensorflow.keras import layers\n",
    "\n",
    "token_embed = layers.Embedding(input_dim = len(rct_20k_text_vocab), #input shape\n",
    "                               output_dim = 128, #output_shape\n",
    "                               input_length = output_seq_len,  #how long is each input\n",
    "                               mask_zero = True,\n",
    "                               name = \"token_embedding\"\n",
    "                              )\n"
   ]
  },
  {
   "cell_type": "markdown",
   "id": "ed5c40f2",
   "metadata": {},
   "source": [
    "### Character Level Embedding\n",
    "\n",
    "   - output_dim = 25\n",
    "       - from SkimLit paper. https://arxiv.org/pdf/1710.06071.pdf"
   ]
  },
  {
   "cell_type": "code",
   "execution_count": 126,
   "id": "0d9b877c",
   "metadata": {},
   "outputs": [],
   "source": [
    "char_embed = layers.Embedding(input_dim = max_chars, #input shape\n",
    "                               output_dim = 25, #output_shape\n",
    "                               input_length = output_chars_len,  #how long is each input\n",
    "                               mask_zero = False,\n",
    "                               name = \"char_embedding\"\n",
    "                              )\n"
   ]
  },
  {
   "cell_type": "markdown",
   "id": "364e7934",
   "metadata": {},
   "source": [
    "### Embed Sample Sentence"
   ]
  },
  {
   "cell_type": "code",
   "execution_count": 39,
   "id": "d66947e2",
   "metadata": {},
   "outputs": [
    {
     "name": "stdout",
     "output_type": "stream",
     "text": [
      "Sentence before vectorization: \n",
      "There's a flood in my street \n",
      "\n",
      "Sentence after vectorization: \n",
      "[[43871     8     1     5 25624 10148     0     0     0     0     0     0\n",
      "      0     0     0     0     0     0     0     0     0     0     0     0\n",
      "      0     0     0     0     0     0     0     0     0     0     0     0\n",
      "      0     0     0     0     0     0     0     0     0     0     0     0\n",
      "      0     0     0     0     0     0     0]] \n",
      "\n",
      "Sentence after embedding: \n",
      "[[[ 0.03745996  0.04264956  0.04706064 ... -0.01963761  0.01389814\n",
      "    0.03068007]\n",
      "  [-0.0258879  -0.0215438  -0.04783794 ... -0.01898686  0.01393313\n",
      "    0.02954478]\n",
      "  [ 0.03044387  0.04087231  0.03409256 ...  0.01262671 -0.04493991\n",
      "   -0.02356706]\n",
      "  ...\n",
      "  [ 0.02045831  0.03747478  0.02605871 ... -0.02147753  0.03577201\n",
      "   -0.04950079]\n",
      "  [ 0.02045831  0.03747478  0.02605871 ... -0.02147753  0.03577201\n",
      "   -0.04950079]\n",
      "  [ 0.02045831  0.03747478  0.02605871 ... -0.02147753  0.03577201\n",
      "   -0.04950079]]] \n",
      "\n",
      " Embedded sentence shape: (1, 55, 128)\n"
     ]
    }
   ],
   "source": [
    "sample_sentence = \"There's a flood in my street\"\n",
    "\n",
    "print(f\"Sentence before vectorization: \\n{sample_sentence} \\n\")\n",
    "vectorized_sentence = text_vectorizer([sample_sentence])\n",
    "print(f\"Sentence after vectorization: \\n{vectorized_sentence} \\n\")\n",
    "\n",
    "#random_sentence = random.choice(train_sentences)\n",
    "#print(text_vectorizer(random_sentence))\n",
    "\n",
    "embedded_sentence = token_embed(text_vectorizer([sample_sentence]))\n",
    "print(f\"Sentence after embedding: \\n{embedded_sentence} \\n\")\n",
    "\n",
    "print(f\" Embedded sentence shape: {embedded_sentence.shape}\")"
   ]
  },
  {
   "cell_type": "markdown",
   "id": "518f6cb1",
   "metadata": {},
   "source": [
    "### Embed Sample Sentence's characters"
   ]
  },
  {
   "cell_type": "code",
   "execution_count": 40,
   "id": "be3074c2",
   "metadata": {},
   "outputs": [
    {
     "name": "stdout",
     "output_type": "stream",
     "text": [
      "Sentence before vectorization: \n",
      "There's a flood in my street \n",
      "\n",
      "Sentence after vectorization: \n",
      "[[1 5 1 1 1 1 0 0 0 0 0 0 0 0 0 0 0 0 0 0 0 0 0 0 0 0 0 0 0 0 0 0 0 0 0 0\n",
      "  0 0 0 0 0 0 0 0 0 0 0 0 0 0 0 0 0 0 0 0 0 0 0 0 0 0 0 0 0 0 0 0 0 0 0 0\n",
      "  0 0 0 0 0 0 0 0 0 0 0 0 0 0 0 0 0 0 0 0 0 0 0 0 0 0 0 0 0 0 0 0 0 0 0 0\n",
      "  0 0 0 0 0 0 0 0 0 0 0 0 0 0 0 0 0 0 0 0 0 0 0 0 0 0 0 0 0 0 0 0 0 0 0 0\n",
      "  0 0 0 0 0 0 0 0 0 0 0 0 0 0 0 0 0 0 0 0 0 0 0 0 0 0 0 0 0 0 0 0 0 0 0 0\n",
      "  0 0 0 0 0 0 0 0 0 0 0 0 0 0 0 0 0 0 0 0 0 0 0 0 0 0 0 0 0 0 0 0 0 0 0 0\n",
      "  0 0 0 0 0 0 0 0 0 0 0 0 0 0 0 0 0 0 0 0 0 0 0 0 0 0 0 0 0 0 0 0 0 0 0 0\n",
      "  0 0 0 0 0 0 0 0 0 0 0 0 0 0 0 0 0 0 0 0 0 0 0 0 0 0 0 0 0 0 0 0 0 0 0 0\n",
      "  0 0]] \n",
      "\n",
      "Sentence after embedding: \n",
      "[[[-0.00888432 -0.01705568 -0.00618298 ...  0.00263994 -0.01802511\n",
      "   -0.04287549]\n",
      "  [ 0.03050864  0.02908884  0.00842325 ...  0.03529463  0.02666577\n",
      "   -0.00014519]\n",
      "  [-0.00888432 -0.01705568 -0.00618298 ...  0.00263994 -0.01802511\n",
      "   -0.04287549]\n",
      "  ...\n",
      "  [-0.00048314 -0.00690062 -0.04776591 ... -0.03639732  0.01733117\n",
      "   -0.00304062]\n",
      "  [-0.00048314 -0.00690062 -0.04776591 ... -0.03639732  0.01733117\n",
      "   -0.00304062]\n",
      "  [-0.00048314 -0.00690062 -0.04776591 ... -0.03639732  0.01733117\n",
      "   -0.00304062]]] \n",
      "\n",
      " Embedded sentence character's shape: (1, 290, 25)\n"
     ]
    }
   ],
   "source": [
    "sample_sentence = \"There's a flood in my street\"\n",
    "\n",
    "print(f\"Sentence before vectorization: \\n{sample_sentence} \\n\")\n",
    "vectorized_sentence_chars = char_vectorizer([sample_sentence])\n",
    "print(f\"Sentence after vectorization: \\n{vectorized_sentence_chars} \\n\")\n",
    " \n",
    "\n",
    "embedded_sentence_chars = char_embed(vectorized_sentence_chars)\n",
    "print(f\"Sentence after embedding: \\n{embedded_sentence_chars} \\n\")\n",
    "\n",
    "print(f\" Embedded sentence character's shape: {embedded_sentence_chars.shape}\")"
   ]
  },
  {
   "cell_type": "markdown",
   "id": "1af06da3",
   "metadata": {},
   "source": [
    "## Running a Series of Experiments\n",
    "\n",
    "0. Naive Bayes with TF-IDF encoder (baseline)\n",
    "\n",
    "1. Conv1D with token embeddings\n",
    "\n",
    "2. Feature Extraction with pre trained token embeddings \n",
    "\n",
    "3. Conv1d with character embeddings\n",
    "\n",
    "4. Combination of model 2 and model 3\n",
    "   - pretrained token embedding (model 2)\n",
    "   - character embedding (model 3)\n",
    "    \n",
    "5. Tribrid Model, combination of model 4 and positional embeddings\n",
    "   - pretrained token embedding (USE)\n",
    "   - character embeddings \n",
    "   - positional embeddings\n",
    "       - line number\n",
    "       - total lines\n",
    " "
   ]
  },
  {
   "cell_type": "markdown",
   "id": "6e4c54de",
   "metadata": {},
   "source": [
    "## Creating Datasets \n",
    "\n",
    "- Steps to speed up model's data processing time by turning data to \n",
    "     - datasets\n",
    "     - batches\n",
    "     - prefetched\n",
    "\n",
    "### Key note:\n",
    "- Train data is not shuffled here because we want the model to learn the order of samples (objective, background, methods...etc)\n",
    "\n",
    "### Data Performace Boost Guides\n",
    "- https://www.tensorflow.org/guide/data\n",
    "- https://www.tensorflow.org/guide/data_performance"
   ]
  },
  {
   "cell_type": "markdown",
   "id": "c9044805",
   "metadata": {},
   "source": [
    "## Datasets Token Level \n",
    "- used for Model 1"
   ]
  },
  {
   "cell_type": "code",
   "execution_count": 41,
   "id": "38603e46",
   "metadata": {},
   "outputs": [],
   "source": [
    "train_dataset = tf.data.Dataset.from_tensor_slices(\n",
    "(tf.constant(train_sentences), \n",
    " tf.constant(train_labels_one_hot))).batch(32).prefetch(buffer_size=tf.data.AUTOTUNE)\n",
    "\n",
    "val_dataset = tf.data.Dataset.from_tensor_slices(\n",
    "(tf.constant(val_sentences), \n",
    " tf.constant(val_labels_one_hot))).batch(32).prefetch(buffer_size = tf.data.AUTOTUNE)\n",
    "\n",
    "test_dataset = tf.data.Dataset.from_tensor_slices(\n",
    "(tf.constant(test_sentences), \n",
    " tf.constant(test_labels_one_hot))).batch(32).prefetch(buffer_size = tf.data.AUTOTUNE)"
   ]
  },
  {
   "cell_type": "markdown",
   "id": "282c8f5d",
   "metadata": {},
   "source": [
    "## Datasets Character Level\n",
    "- used for Model 3"
   ]
  },
  {
   "cell_type": "code",
   "execution_count": 42,
   "id": "6e0da7dd",
   "metadata": {},
   "outputs": [],
   "source": [
    "train_char_dataset = tf.data.Dataset.from_tensor_slices(\n",
    "(tf.constant(train_chars), \n",
    " tf.constant(train_labels_one_hot))).batch(32).prefetch(buffer_size=tf.data.AUTOTUNE)\n",
    "\n",
    "val_char_dataset = tf.data.Dataset.from_tensor_slices(\n",
    "(tf.constant(val_chars), \n",
    " tf.constant(val_labels_one_hot))).batch(32).prefetch(buffer_size = tf.data.AUTOTUNE)\n",
    "\n",
    "test_char_dataset = tf.data.Dataset.from_tensor_slices(\n",
    "(tf.constant(test_chars), \n",
    " tf.constant(test_labels_one_hot))).batch(32).prefetch(buffer_size = tf.data.AUTOTUNE)"
   ]
  },
  {
   "cell_type": "markdown",
   "id": "8bdfb21c",
   "metadata": {},
   "source": [
    "## Datasets Token and Character Level\n",
    "- used for Model 4\n",
    "\n",
    "### Create Datasets\n",
    "\n",
    "   - sentences & characters \n",
    "   - labels\n",
    "  \n",
    "### Combine Datasets\n",
    "\n",
    "   - Zip\n",
    "   - Batch \n",
    "   - Prefetch"
   ]
  },
  {
   "cell_type": "code",
   "execution_count": 43,
   "id": "5bd8aec0",
   "metadata": {},
   "outputs": [],
   "source": [
    "# Train Data\n",
    "\n",
    "train_char_token_data = tf.data.Dataset.from_tensor_slices(\n",
    "(tf.constant(train_sentences), tf.constant(train_chars))\n",
    ")\n",
    "\n",
    "train_char_token_labels = tf.data.Dataset.from_tensor_slices(\n",
    "tf.constant(train_labels_one_hot)\n",
    ")\n",
    "\n",
    "\n",
    "train_char_token_dataset = tf.data.Dataset.zip((train_char_token_data,\n",
    "                     train_char_token_labels)).batch(32).prefetch(tf.data.AUTOTUNE)\n",
    "\n",
    "\n",
    "\n",
    "\n",
    "# Validation Data\n",
    "\n",
    "val_char_token_data = tf.data.Dataset.from_tensor_slices(\n",
    "(tf.constant(val_sentences), tf.constant(val_chars))\n",
    ")\n",
    "\n",
    "\n",
    "val_char_token_labels = tf.data.Dataset.from_tensor_slices(\n",
    "tf.constant(val_labels_one_hot)\n",
    ")\n",
    "\n",
    "\n",
    "val_char_token_dataset = tf.data.Dataset.zip((val_char_token_data, \n",
    "                     val_char_token_labels)).batch(32).prefetch(tf.data.AUTOTUNE)"
   ]
  },
  {
   "cell_type": "markdown",
   "id": "630a3241",
   "metadata": {},
   "source": [
    "## Datasets Token, Character and Positional Level\n",
    "- used for Model 5\n",
    "\n",
    "### Create Datasets\n",
    "\n",
    "   - sentences, characters, line number, total lines \n",
    "   - labels\n",
    "  \n",
    "### Combine Datasets\n",
    "\n",
    "   - Zip\n",
    "   - Batch \n",
    "   - Prefetch"
   ]
  },
  {
   "cell_type": "code",
   "execution_count": 44,
   "id": "44c64ec5",
   "metadata": {},
   "outputs": [],
   "source": [
    "#train_token_char_pos_data\n",
    "train_token_char_pos_data = tf.data.Dataset.from_tensor_slices((tf.constant(train_sentences),\n",
    "               tf.constant(train_chars),\n",
    "               tf.constant(train_line_number_one_hot),\n",
    "               tf.constant(train_total_lines_one_hot)))\n",
    "\n",
    "#train_token_char_pos_labels \n",
    "train_token_char_pos_labels = tf.data.Dataset.from_tensor_slices(tf.constant(train_labels_one_hot))\n",
    "\n",
    "# zip data & labels dataset\n",
    "train_token_char_pos_dataset = tf.data.Dataset.zip((train_token_char_pos_data, train_token_char_pos_labels))\n",
    "\n",
    "# batch & prefetch dataset\n",
    "train_token_char_pos_dataset = train_token_char_pos_dataset.batch(32).prefetch(tf.data.AUTOTUNE)\n",
    "\n"
   ]
  },
  {
   "cell_type": "code",
   "execution_count": 45,
   "id": "c1efa574",
   "metadata": {},
   "outputs": [],
   "source": [
    "#val_token_char_pos_data\n",
    "val_token_char_pos_data = tf.data.Dataset.from_tensor_slices((tf.constant(val_sentences),\n",
    "               tf.constant(val_chars),\n",
    "               tf.constant(val_line_number_one_hot),\n",
    "               tf.constant(val_total_lines_one_hot)))\n",
    "\n",
    "#val_token_char_pos_labels \n",
    "val_token_char_pos_labels = tf.data.Dataset.from_tensor_slices(tf.constant(val_labels_one_hot))\n",
    "\n",
    "\n",
    "# zip data & labels dataset\n",
    "val_token_char_pos_dataset = tf.data.Dataset.zip((val_token_char_pos_data, val_token_char_pos_labels))\n",
    "\n",
    "# batch & prefetch dataset\n",
    "val_token_char_pos_dataset = val_token_char_pos_dataset.batch(32).prefetch(tf.data.AUTOTUNE)\n",
    "\n"
   ]
  },
  {
   "cell_type": "code",
   "execution_count": 46,
   "id": "ea98b1db",
   "metadata": {},
   "outputs": [],
   "source": [
    "#test_token_char_pos_data\n",
    "test_token_char_pos_data = tf.data.Dataset.from_tensor_slices((tf.constant(test_sentences),\n",
    "               tf.constant(test_chars),\n",
    "               tf.constant(test_line_number_one_hot),\n",
    "               tf.constant(test_total_lines_one_hot)))\n",
    "\n",
    "#test_token_char_pos_labels \n",
    "test_token_char_pos_labels = tf.data.Dataset.from_tensor_slices(tf.constant(test_labels_one_hot))\n",
    "\n",
    "\n",
    "# zip data & labels dataset\n",
    "test_token_char_pos_dataset = tf.data.Dataset.zip((test_token_char_pos_data, test_token_char_pos_labels))\n",
    "\n",
    "# batch & prefetch dataset\n",
    "test_token_char_pos_dataset = test_token_char_pos_dataset.batch(32).prefetch(tf.data.AUTOTUNE)\n",
    "\n"
   ]
  },
  {
   "cell_type": "markdown",
   "id": "7d978245",
   "metadata": {},
   "source": [
    "## Model 0\n",
    "### Naive Bayes with TF-IDF encoder - Baseline Model \n",
    "\n",
    "https://scikit-learn.org/stable/tutorial/machine_learning_map/index.html"
   ]
  },
  {
   "cell_type": "code",
   "execution_count": 47,
   "id": "ba38a75f",
   "metadata": {},
   "outputs": [
    {
     "data": {
      "text/html": [
       "<style>#sk-container-id-1 {color: black;background-color: white;}#sk-container-id-1 pre{padding: 0;}#sk-container-id-1 div.sk-toggleable {background-color: white;}#sk-container-id-1 label.sk-toggleable__label {cursor: pointer;display: block;width: 100%;margin-bottom: 0;padding: 0.3em;box-sizing: border-box;text-align: center;}#sk-container-id-1 label.sk-toggleable__label-arrow:before {content: \"▸\";float: left;margin-right: 0.25em;color: #696969;}#sk-container-id-1 label.sk-toggleable__label-arrow:hover:before {color: black;}#sk-container-id-1 div.sk-estimator:hover label.sk-toggleable__label-arrow:before {color: black;}#sk-container-id-1 div.sk-toggleable__content {max-height: 0;max-width: 0;overflow: hidden;text-align: left;background-color: #f0f8ff;}#sk-container-id-1 div.sk-toggleable__content pre {margin: 0.2em;color: black;border-radius: 0.25em;background-color: #f0f8ff;}#sk-container-id-1 input.sk-toggleable__control:checked~div.sk-toggleable__content {max-height: 200px;max-width: 100%;overflow: auto;}#sk-container-id-1 input.sk-toggleable__control:checked~label.sk-toggleable__label-arrow:before {content: \"▾\";}#sk-container-id-1 div.sk-estimator input.sk-toggleable__control:checked~label.sk-toggleable__label {background-color: #d4ebff;}#sk-container-id-1 div.sk-label input.sk-toggleable__control:checked~label.sk-toggleable__label {background-color: #d4ebff;}#sk-container-id-1 input.sk-hidden--visually {border: 0;clip: rect(1px 1px 1px 1px);clip: rect(1px, 1px, 1px, 1px);height: 1px;margin: -1px;overflow: hidden;padding: 0;position: absolute;width: 1px;}#sk-container-id-1 div.sk-estimator {font-family: monospace;background-color: #f0f8ff;border: 1px dotted black;border-radius: 0.25em;box-sizing: border-box;margin-bottom: 0.5em;}#sk-container-id-1 div.sk-estimator:hover {background-color: #d4ebff;}#sk-container-id-1 div.sk-parallel-item::after {content: \"\";width: 100%;border-bottom: 1px solid gray;flex-grow: 1;}#sk-container-id-1 div.sk-label:hover label.sk-toggleable__label {background-color: #d4ebff;}#sk-container-id-1 div.sk-serial::before {content: \"\";position: absolute;border-left: 1px solid gray;box-sizing: border-box;top: 0;bottom: 0;left: 50%;z-index: 0;}#sk-container-id-1 div.sk-serial {display: flex;flex-direction: column;align-items: center;background-color: white;padding-right: 0.2em;padding-left: 0.2em;position: relative;}#sk-container-id-1 div.sk-item {position: relative;z-index: 1;}#sk-container-id-1 div.sk-parallel {display: flex;align-items: stretch;justify-content: center;background-color: white;position: relative;}#sk-container-id-1 div.sk-item::before, #sk-container-id-1 div.sk-parallel-item::before {content: \"\";position: absolute;border-left: 1px solid gray;box-sizing: border-box;top: 0;bottom: 0;left: 50%;z-index: -1;}#sk-container-id-1 div.sk-parallel-item {display: flex;flex-direction: column;z-index: 1;position: relative;background-color: white;}#sk-container-id-1 div.sk-parallel-item:first-child::after {align-self: flex-end;width: 50%;}#sk-container-id-1 div.sk-parallel-item:last-child::after {align-self: flex-start;width: 50%;}#sk-container-id-1 div.sk-parallel-item:only-child::after {width: 0;}#sk-container-id-1 div.sk-dashed-wrapped {border: 1px dashed gray;margin: 0 0.4em 0.5em 0.4em;box-sizing: border-box;padding-bottom: 0.4em;background-color: white;}#sk-container-id-1 div.sk-label label {font-family: monospace;font-weight: bold;display: inline-block;line-height: 1.2em;}#sk-container-id-1 div.sk-label-container {text-align: center;}#sk-container-id-1 div.sk-container {/* jupyter's `normalize.less` sets `[hidden] { display: none; }` but bootstrap.min.css set `[hidden] { display: none !important; }` so we also need the `!important` here to be able to override the default hidden behavior on the sphinx rendered scikit-learn.org. See: https://github.com/scikit-learn/scikit-learn/issues/21755 */display: inline-block !important;position: relative;}#sk-container-id-1 div.sk-text-repr-fallback {display: none;}</style><div id=\"sk-container-id-1\" class=\"sk-top-container\"><div class=\"sk-text-repr-fallback\"><pre>Pipeline(steps=[(&#x27;tfidf&#x27;, TfidfVectorizer()), (&#x27;clf&#x27;, MultinomialNB())])</pre><b>In a Jupyter environment, please rerun this cell to show the HTML representation or trust the notebook. <br />On GitHub, the HTML representation is unable to render, please try loading this page with nbviewer.org.</b></div><div class=\"sk-container\" hidden><div class=\"sk-item sk-dashed-wrapped\"><div class=\"sk-label-container\"><div class=\"sk-label sk-toggleable\"><input class=\"sk-toggleable__control sk-hidden--visually\" id=\"sk-estimator-id-1\" type=\"checkbox\" ><label for=\"sk-estimator-id-1\" class=\"sk-toggleable__label sk-toggleable__label-arrow\">Pipeline</label><div class=\"sk-toggleable__content\"><pre>Pipeline(steps=[(&#x27;tfidf&#x27;, TfidfVectorizer()), (&#x27;clf&#x27;, MultinomialNB())])</pre></div></div></div><div class=\"sk-serial\"><div class=\"sk-item\"><div class=\"sk-estimator sk-toggleable\"><input class=\"sk-toggleable__control sk-hidden--visually\" id=\"sk-estimator-id-2\" type=\"checkbox\" ><label for=\"sk-estimator-id-2\" class=\"sk-toggleable__label sk-toggleable__label-arrow\">TfidfVectorizer</label><div class=\"sk-toggleable__content\"><pre>TfidfVectorizer()</pre></div></div></div><div class=\"sk-item\"><div class=\"sk-estimator sk-toggleable\"><input class=\"sk-toggleable__control sk-hidden--visually\" id=\"sk-estimator-id-3\" type=\"checkbox\" ><label for=\"sk-estimator-id-3\" class=\"sk-toggleable__label sk-toggleable__label-arrow\">MultinomialNB</label><div class=\"sk-toggleable__content\"><pre>MultinomialNB()</pre></div></div></div></div></div></div></div>"
      ],
      "text/plain": [
       "Pipeline(steps=[('tfidf', TfidfVectorizer()), ('clf', MultinomialNB())])"
      ]
     },
     "execution_count": 47,
     "metadata": {},
     "output_type": "execute_result"
    }
   ],
   "source": [
    "from sklearn.feature_extraction.text import TfidfVectorizer\n",
    "from sklearn.naive_bayes import MultinomialNB\n",
    "from sklearn.pipeline import Pipeline\n",
    "\n",
    "\n",
    "#Create tokenization and modelling pipeline \n",
    "model_0 = Pipeline([\n",
    "    (\"tfidf\", TfidfVectorizer()), #convert words to numbers\n",
    "    (\"clf\", MultinomialNB()) #model the text\n",
    "        \n",
    "])\n",
    "\n",
    "# Fit the pipeline to the training data\n",
    "model_0.fit(train_sentences, train_labels_encoded)\n"
   ]
  },
  {
   "cell_type": "markdown",
   "id": "5425fd9f",
   "metadata": {},
   "source": [
    "### Evaluate Model 0"
   ]
  },
  {
   "cell_type": "code",
   "execution_count": 48,
   "id": "93a96615",
   "metadata": {},
   "outputs": [],
   "source": [
    "from helper_functions import calculate_results\n",
    "\n",
    "baseline_score = model_0.score(val_sentences, val_labels_encoded)\n",
    "baseline_preds = model_0.predict(val_sentences)\n",
    "baseline_results = calculate_results(val_labels_encoded, baseline_preds)"
   ]
  },
  {
   "cell_type": "code",
   "execution_count": 49,
   "id": "7e8dcb5a",
   "metadata": {},
   "outputs": [
    {
     "data": {
      "text/plain": [
       "{'accuracy': 72.1832384482987,\n",
       " 'precision': 0.7186466952323352,\n",
       " 'recall': 0.7218323844829869,\n",
       " 'f1': 0.6989250353450294}"
      ]
     },
     "execution_count": 49,
     "metadata": {},
     "output_type": "execute_result"
    }
   ],
   "source": [
    "baseline_results"
   ]
  },
  {
   "cell_type": "markdown",
   "id": "2d516dfb",
   "metadata": {},
   "source": [
    "## Model 1\n",
    "\n",
    "### Conv1D with token embeddings\n",
    " \n"
   ]
  },
  {
   "cell_type": "code",
   "execution_count": 50,
   "id": "6a89ef3f",
   "metadata": {},
   "outputs": [
    {
     "name": "stdout",
     "output_type": "stream",
     "text": [
      "(None, 1)\n",
      "(None, 55)\n",
      "(None, 55, 128)\n",
      "(None, 55, 64)\n",
      "(None, 64)\n",
      "(None, 5)\n",
      "Model: \"model_1_conv1d\"\n",
      "_________________________________________________________________\n",
      " Layer (type)                Output Shape              Param #   \n",
      "=================================================================\n",
      " input_1 (InputLayer)        [(None, 1)]               0         \n",
      "                                                                 \n",
      " text_vectorizer (TextVector  (None, 55)               0         \n",
      " ization)                                                        \n",
      "                                                                 \n",
      " token_embedding (Embedding)  (None, 55, 128)          8299648   \n",
      "                                                                 \n",
      " conv1d (Conv1D)             (None, 55, 64)            41024     \n",
      "                                                                 \n",
      " global_average_pooling1d (G  (None, 64)               0         \n",
      " lobalAveragePooling1D)                                          \n",
      "                                                                 \n",
      " dense (Dense)               (None, 5)                 325       \n",
      "                                                                 \n",
      "=================================================================\n",
      "Total params: 8,340,997\n",
      "Trainable params: 8,340,997\n",
      "Non-trainable params: 0\n",
      "_________________________________________________________________\n"
     ]
    }
   ],
   "source": [
    "from tensorflow.keras import layers\n",
    "\n",
    "inputs = layers.Input(shape=(1,), dtype=tf.string)\n",
    "print(inputs.shape)\n",
    "\n",
    "x = text_vectorizer(inputs)\n",
    "print(x.shape)\n",
    "\n",
    "x = token_embed(x)\n",
    "print(x.shape)\n",
    "\n",
    "x = layers.Conv1D(filters = 64,\n",
    "                 kernel_size = 5,\n",
    "                 padding = \"same\",\n",
    "                 activation = \"relu\")(x)\n",
    "print(x.shape)\n",
    "\n",
    "x = layers.GlobalAveragePooling1D()(x) \n",
    "print(x.shape)\n",
    "\n",
    "outputs = layers.Dense(num_classes, activation= \"softmax\")(x)\n",
    "print(outputs.shape)\n",
    "\n",
    "model_1 = tf.keras.Model(inputs, outputs, name = \"model_1_conv1d\")\n",
    "\n",
    "model_1.summary()"
   ]
  },
  {
   "cell_type": "markdown",
   "id": "e368fdd5",
   "metadata": {},
   "source": [
    "### Compile Model 1"
   ]
  },
  {
   "cell_type": "code",
   "execution_count": 51,
   "id": "4768a080",
   "metadata": {},
   "outputs": [],
   "source": [
    "model_1.compile(loss= \"categorical_crossentropy\",\n",
    "               optimizer = \"Adam\",\n",
    "               metrics = \"accuracy\")"
   ]
  },
  {
   "cell_type": "markdown",
   "id": "ba077dd8",
   "metadata": {},
   "source": [
    "### Fit Model 1"
   ]
  },
  {
   "cell_type": "code",
   "execution_count": 52,
   "id": "b277e828",
   "metadata": {},
   "outputs": [
    {
     "name": "stdout",
     "output_type": "stream",
     "text": [
      "Epoch 1/3\n",
      "562/562 [==============================] - 8s 14ms/step - loss: 0.9163 - accuracy: 0.6380 - val_loss: 0.6929 - val_accuracy: 0.7350\n",
      "Epoch 2/3\n",
      "562/562 [==============================] - 8s 14ms/step - loss: 0.6647 - accuracy: 0.7526 - val_loss: 0.6377 - val_accuracy: 0.7670\n",
      "Epoch 3/3\n",
      "562/562 [==============================] - 8s 13ms/step - loss: 0.6208 - accuracy: 0.7728 - val_loss: 0.5964 - val_accuracy: 0.7852\n"
     ]
    }
   ],
   "source": [
    "model_1_history = model_1.fit(train_dataset,\n",
    "                         epochs=3,\n",
    "                         steps_per_epoch=int(0.1 * len(train_dataset)),     \n",
    "                         validation_data=val_dataset,\n",
    "                         validation_steps = int(0.1 * len(val_dataset))       \n",
    "                         )"
   ]
  },
  {
   "cell_type": "markdown",
   "id": "cae3be06",
   "metadata": {},
   "source": [
    "### Evaluate Model 1"
   ]
  },
  {
   "cell_type": "code",
   "execution_count": 53,
   "id": "227424c4",
   "metadata": {},
   "outputs": [
    {
     "name": "stdout",
     "output_type": "stream",
     "text": [
      "945/945 [==============================] - 2s 3ms/step - loss: 0.5985 - accuracy: 0.7861\n",
      "945/945 [==============================] - 2s 2ms/step\n"
     ]
    }
   ],
   "source": [
    "model_1_score = model_1.evaluate(val_dataset)\n",
    "model_1_pred_probs = model_1.predict(val_dataset)\n",
    "model_1_preds = np.argmax(model_1_pred_probs, axis=1)\n",
    "model_1_results = calculate_results(val_labels_encoded, model_1_preds)"
   ]
  },
  {
   "cell_type": "code",
   "execution_count": 54,
   "id": "a5033857",
   "metadata": {},
   "outputs": [
    {
     "data": {
      "text/plain": [
       "{'accuracy': 78.6144578313253,\n",
       " 'precision': 0.7825799788028602,\n",
       " 'recall': 0.786144578313253,\n",
       " 'f1': 0.7834395967472083}"
      ]
     },
     "execution_count": 54,
     "metadata": {},
     "output_type": "execute_result"
    }
   ],
   "source": [
    "model_1_results"
   ]
  },
  {
   "cell_type": "markdown",
   "id": "9cec0872",
   "metadata": {},
   "source": [
    "## Model 2\n",
    "\n",
    "- Tensorflow Hub Pretrained Feature Extractor\n",
    "\n",
    "\n",
    "### Key Note:\n",
    "- The PubMed RCT paper used GloVe embeddings as their pretrained feature extractor. \n",
    "- Here, a more recent pretrained word embedding from TensorFlow Hub is used. \n",
    "    - Universal Sentence Encoder (USE).\n",
    "     - https://tfhub.dev/google/universal-sentence-encoder/4\n"
   ]
  },
  {
   "cell_type": "markdown",
   "id": "2925c6b7",
   "metadata": {},
   "source": [
    "### Create Universal Sentence Encoder Instance for Model 2"
   ]
  },
  {
   "cell_type": "code",
   "execution_count": 55,
   "id": "ba29f9b7",
   "metadata": {},
   "outputs": [
    {
     "name": "stdout",
     "output_type": "stream",
     "text": [
      "WARNING:tensorflow:Please fix your imports. Module tensorflow.python.training.tracking.data_structures has been moved to tensorflow.python.trackable.data_structures. The old module will be deleted in version 2.11.\n"
     ]
    }
   ],
   "source": [
    "import tensorflow_hub as hub\n",
    "tf_hub_embedding_layer = hub.KerasLayer(\"https://tfhub.dev/google/universal-sentence-encoder/4\",\n",
    "                                        trainable=False,\n",
    "                                        name=\"universal_sentence_encoder\")"
   ]
  },
  {
   "cell_type": "markdown",
   "id": "c008f4b9",
   "metadata": {},
   "source": [
    "### Build Model 2 "
   ]
  },
  {
   "cell_type": "code",
   "execution_count": 56,
   "id": "e5e1e9b6",
   "metadata": {},
   "outputs": [
    {
     "name": "stdout",
     "output_type": "stream",
     "text": [
      "(None,)\n",
      "(None, 128)\n",
      "(None, 5)\n",
      "Model: \"model_2_USE\"\n",
      "_________________________________________________________________\n",
      " Layer (type)                Output Shape              Param #   \n",
      "=================================================================\n",
      " input_2 (InputLayer)        [(None,)]                 0         \n",
      "                                                                 \n",
      " universal_sentence_encoder   (None, 512)              256797824 \n",
      " (KerasLayer)                                                    \n",
      "                                                                 \n",
      " dense_1 (Dense)             (None, 128)               65664     \n",
      "                                                                 \n",
      " dense_2 (Dense)             (None, 5)                 645       \n",
      "                                                                 \n",
      "=================================================================\n",
      "Total params: 256,864,133\n",
      "Trainable params: 66,309\n",
      "Non-trainable params: 256,797,824\n",
      "_________________________________________________________________\n"
     ]
    }
   ],
   "source": [
    "from tensorflow.keras import layers\n",
    "\n",
    "inputs = layers.Input(shape = [], dtype=\"string\")\n",
    "print(inputs.shape)\n",
    "\n",
    "x = tf_hub_embedding_layer(inputs)\n",
    " \n",
    "x = tf.keras.layers.Dense(128, activation = \"relu\")(x)\n",
    "print(x.shape)\n",
    "\n",
    "outputs = tf.keras.layers.Dense(5, activation = \"softmax\")(x)\n",
    "print(outputs.shape)\n",
    "\n",
    "model_2 = tf.keras.Model(inputs, outputs, name = \"model_2_USE\")\n",
    "\n",
    "model_2.summary()"
   ]
  },
  {
   "cell_type": "markdown",
   "id": "3abb1999",
   "metadata": {},
   "source": [
    "### Compile Model 2"
   ]
  },
  {
   "cell_type": "code",
   "execution_count": 57,
   "id": "978ebd8a",
   "metadata": {},
   "outputs": [],
   "source": [
    "model_2.compile(loss= \"categorical_crossentropy\",\n",
    "               optimizer = \"Adam\",\n",
    "               metrics = \"accuracy\")"
   ]
  },
  {
   "cell_type": "markdown",
   "id": "11935941",
   "metadata": {},
   "source": [
    "### Fit Model 2"
   ]
  },
  {
   "cell_type": "code",
   "execution_count": 58,
   "id": "217818a3",
   "metadata": {},
   "outputs": [
    {
     "name": "stdout",
     "output_type": "stream",
     "text": [
      "Epoch 1/3\n",
      "562/562 [==============================] - 5s 7ms/step - loss: 0.9147 - accuracy: 0.6506 - val_loss: 0.7972 - val_accuracy: 0.6905\n",
      "Epoch 2/3\n",
      "562/562 [==============================] - 4s 6ms/step - loss: 0.7687 - accuracy: 0.7017 - val_loss: 0.7548 - val_accuracy: 0.7045\n",
      "Epoch 3/3\n",
      "562/562 [==============================] - 4s 6ms/step - loss: 0.7511 - accuracy: 0.7130 - val_loss: 0.7376 - val_accuracy: 0.7164\n"
     ]
    }
   ],
   "source": [
    "model_2_history = model_2.fit(train_dataset,\n",
    "                         epochs=3,\n",
    "                         steps_per_epoch=int(0.1 * len(train_dataset)),     \n",
    "                         validation_data=val_dataset,\n",
    "                         validation_steps = int(0.1 * len(val_dataset))       \n",
    "                         )"
   ]
  },
  {
   "cell_type": "markdown",
   "id": "fcd4239c",
   "metadata": {},
   "source": [
    "### Evaluate Model 2"
   ]
  },
  {
   "cell_type": "code",
   "execution_count": 59,
   "id": "89b4dd59",
   "metadata": {},
   "outputs": [
    {
     "name": "stdout",
     "output_type": "stream",
     "text": [
      "945/945 [==============================] - 5s 5ms/step - loss: 0.7401 - accuracy: 0.7150\n",
      "945/945 [==============================] - 5s 5ms/step\n"
     ]
    }
   ],
   "source": [
    "model_2_score = model_2.evaluate(val_dataset)\n",
    "model_2_pred_probs = model_2.predict(val_dataset)\n",
    "model_2_preds = np.argmax(model_2_pred_probs, axis=1)\n",
    "model_2_results = calculate_results(val_labels_encoded, model_2_preds)"
   ]
  },
  {
   "cell_type": "code",
   "execution_count": 60,
   "id": "9fb44371",
   "metadata": {},
   "outputs": [
    {
     "data": {
      "text/plain": [
       "{'accuracy': 71.50470011915795,\n",
       " 'precision': 0.7155366890795302,\n",
       " 'recall': 0.7150470011915795,\n",
       " 'f1': 0.7122084892537629}"
      ]
     },
     "execution_count": 60,
     "metadata": {},
     "output_type": "execute_result"
    }
   ],
   "source": [
    "model_2_results"
   ]
  },
  {
   "cell_type": "markdown",
   "id": "a4d264bd",
   "metadata": {},
   "source": [
    "## Model 3\n",
    "\n",
    "- Conv1d with character embeddings "
   ]
  },
  {
   "cell_type": "code",
   "execution_count": 61,
   "id": "1688958d",
   "metadata": {},
   "outputs": [
    {
     "name": "stdout",
     "output_type": "stream",
     "text": [
      "(None, 1)\n",
      "(None, 290)\n",
      "(None, 290, 25)\n",
      "(None, 290, 64)\n",
      "(None, 64)\n",
      "(None, 5)\n",
      "Model: \"model_3_conv1d_char_embeded\"\n",
      "_________________________________________________________________\n",
      " Layer (type)                Output Shape              Param #   \n",
      "=================================================================\n",
      " input_3 (InputLayer)        [(None, 1)]               0         \n",
      "                                                                 \n",
      " char_vectorizer (TextVector  (None, 290)              0         \n",
      " ization)                                                        \n",
      "                                                                 \n",
      " char_embedding (Embedding)  (None, 290, 25)           1750      \n",
      "                                                                 \n",
      " conv1d_1 (Conv1D)           (None, 290, 64)           8064      \n",
      "                                                                 \n",
      " global_max_pooling1d (Globa  (None, 64)               0         \n",
      " lMaxPooling1D)                                                  \n",
      "                                                                 \n",
      " dense_3 (Dense)             (None, 5)                 325       \n",
      "                                                                 \n",
      "=================================================================\n",
      "Total params: 10,139\n",
      "Trainable params: 10,139\n",
      "Non-trainable params: 0\n",
      "_________________________________________________________________\n"
     ]
    }
   ],
   "source": [
    "from tensorflow.keras import layers\n",
    "\n",
    "inputs = layers.Input(shape=(1,), dtype=tf.string)\n",
    "print(inputs.shape)\n",
    "\n",
    "x = char_vectorizer(inputs)\n",
    "print(x.shape)\n",
    " \n",
    "x = char_embed(x)\n",
    "print(x.shape)\n",
    "\n",
    "x = layers.Conv1D(filters = 64,\n",
    "                 kernel_size = 5,\n",
    "                 padding = \"same\",\n",
    "                 activation = \"relu\")(x)\n",
    "print(x.shape)\n",
    "\n",
    "x = layers.GlobalMaxPooling1D()(x) \n",
    "print(x.shape)\n",
    "\n",
    "outputs = layers.Dense(num_classes, activation= \"softmax\")(x)\n",
    "print(outputs.shape)\n",
    "\n",
    "model_3 = tf.keras.Model(inputs, outputs, name = \"model_3_conv1d_char_embeded\")\n",
    "\n",
    "model_3.summary()"
   ]
  },
  {
   "cell_type": "markdown",
   "id": "a57edd48",
   "metadata": {},
   "source": [
    "### Compile Model 3"
   ]
  },
  {
   "cell_type": "code",
   "execution_count": 62,
   "id": "c0541599",
   "metadata": {},
   "outputs": [],
   "source": [
    "model_3.compile(loss= \"categorical_crossentropy\",\n",
    "               optimizer = \"Adam\",\n",
    "               metrics = \"accuracy\")"
   ]
  },
  {
   "cell_type": "markdown",
   "id": "9b509d6f",
   "metadata": {},
   "source": [
    "### Fit Model 3"
   ]
  },
  {
   "cell_type": "code",
   "execution_count": 63,
   "id": "fa86aa61",
   "metadata": {},
   "outputs": [
    {
     "name": "stdout",
     "output_type": "stream",
     "text": [
      "Epoch 1/3\n",
      "562/562 [==============================] - 4s 7ms/step - loss: 1.2756 - accuracy: 0.4770 - val_loss: 1.0510 - val_accuracy: 0.5761\n",
      "Epoch 2/3\n",
      "562/562 [==============================] - 4s 7ms/step - loss: 1.0150 - accuracy: 0.5934 - val_loss: 0.9531 - val_accuracy: 0.6287\n",
      "Epoch 3/3\n",
      "562/562 [==============================] - 4s 7ms/step - loss: 0.9355 - accuracy: 0.6313 - val_loss: 0.8746 - val_accuracy: 0.6626\n"
     ]
    },
    {
     "data": {
      "text/plain": [
       "<keras.callbacks.History at 0x7f87cfdf8850>"
      ]
     },
     "execution_count": 63,
     "metadata": {},
     "output_type": "execute_result"
    }
   ],
   "source": [
    "model_3.fit(train_char_dataset,\n",
    "                         epochs=3,\n",
    "                         steps_per_epoch=int(0.1 * len(train_char_dataset)),     \n",
    "                         validation_data=val_char_dataset,\n",
    "                         validation_steps = int(0.1 * len(val_char_dataset))       \n",
    "                         )"
   ]
  },
  {
   "cell_type": "markdown",
   "id": "b04c82d7",
   "metadata": {},
   "source": [
    "### Evaluate Model 3"
   ]
  },
  {
   "cell_type": "code",
   "execution_count": 64,
   "id": "5ac9161a",
   "metadata": {},
   "outputs": [
    {
     "name": "stdout",
     "output_type": "stream",
     "text": [
      "945/945 [==============================] - 3s 3ms/step - loss: 0.8998 - accuracy: 0.6513\n",
      "945/945 [==============================] - 2s 3ms/step\n"
     ]
    }
   ],
   "source": [
    "model_3_score = model_3.evaluate(val_char_dataset)\n",
    "model_3_pred_probs = model_3.predict(val_char_dataset)\n",
    "model_3_preds = np.argmax(model_3_pred_probs, axis=1)\n",
    "model_3_results = calculate_results(val_labels_encoded, model_3_preds)"
   ]
  },
  {
   "cell_type": "code",
   "execution_count": 65,
   "id": "58694c22",
   "metadata": {},
   "outputs": [
    {
     "data": {
      "text/plain": [
       "{'accuracy': 65.13305971137297,\n",
       " 'precision': 0.65443219447858,\n",
       " 'recall': 0.6513305971137296,\n",
       " 'f1': 0.6437879476104023}"
      ]
     },
     "execution_count": 65,
     "metadata": {},
     "output_type": "execute_result"
    }
   ],
   "source": [
    "model_3_results"
   ]
  },
  {
   "cell_type": "markdown",
   "id": "739036d5",
   "metadata": {},
   "source": [
    "## Model 4\n",
    "\n",
    "- Multimodal model, takes token and character level sequences as input\n",
    "   - pretrained token embeddings (model_2)\n",
    "   - character level embedding (model_3)\n",
    "- Updates token and chracter embeddings, and parameters using bidirectional LSTM\n",
    "- for regularization, dropout layer of 0.5 is applied.\n",
    "\n",
    "\n",
    "### Key Note: \n",
    "\n",
    "- According to Section 4.2 of Skimlt Paper, model was trained on the Stochatic gradient descent optimizer. However, Model 4 has yielded better results using the Adam optimizer. \n",
    "    \n",
    " \n",
    " "
   ]
  },
  {
   "cell_type": "markdown",
   "id": "74d430e8",
   "metadata": {},
   "source": [
    "###  Pretrained Token embedding model"
   ]
  },
  {
   "cell_type": "code",
   "execution_count": 66,
   "id": "4e8c4ed2",
   "metadata": {},
   "outputs": [
    {
     "name": "stdout",
     "output_type": "stream",
     "text": [
      "(None,)\n",
      "(None, 512)\n",
      "(None, 128)\n",
      "Model: \"token_model_USE\"\n",
      "_________________________________________________________________\n",
      " Layer (type)                Output Shape              Param #   \n",
      "=================================================================\n",
      " input_4 (InputLayer)        [(None,)]                 0         \n",
      "                                                                 \n",
      " universal_sentence_encoder   (None, 512)              256797824 \n",
      " (KerasLayer)                                                    \n",
      "                                                                 \n",
      " dense_4 (Dense)             (None, 128)               65664     \n",
      "                                                                 \n",
      "=================================================================\n",
      "Total params: 256,863,488\n",
      "Trainable params: 65,664\n",
      "Non-trainable params: 256,797,824\n",
      "_________________________________________________________________\n"
     ]
    }
   ],
   "source": [
    "token_inputs = layers.Input(shape = [], dtype=\"string\")\n",
    "print(token_inputs.shape)\n",
    "\n",
    "x = tf_hub_embedding_layer(token_inputs)\n",
    "print(x.shape)\n",
    "\n",
    "token_outputs = layers.Dense(128, activation = \"relu\")(x)\n",
    "print(token_outputs.shape)\n",
    "\n",
    "token_model = tf.keras.Model(token_inputs, token_outputs, name = \"token_model_USE\")\n",
    "token_model.summary()"
   ]
  },
  {
   "cell_type": "markdown",
   "id": "b7425ed2",
   "metadata": {},
   "source": [
    "### Character embedding model"
   ]
  },
  {
   "cell_type": "code",
   "execution_count": null,
   "id": "73e52427",
   "metadata": {},
   "outputs": [],
   "source": [
    "char_inputs = layers.Input(shape=(1,), dtype=\"string\")\n",
    "print(char_inputs.shape)\n",
    "\n",
    "x = char_vectorizer(char_inputs)\n",
    "print(x.shape)\n",
    "\n",
    "x = char_embed(x)\n",
    "print(x.shape)\n",
    "\n",
    "\n",
    "char_outputs = layers.Bidirectional(layers.LSTM(25))(x)\n",
    "print(x.shape)\n",
    "\n",
    "char_model = tf.keras.Model(char_inputs, char_outputs, name = \"char_model_bd_lstm\")\n",
    "char_model.summary()\n"
   ]
  },
  {
   "cell_type": "markdown",
   "id": "f0aea2a2",
   "metadata": {},
   "source": [
    "### Concat, dropout and adjust Model Outputs"
   ]
  },
  {
   "cell_type": "code",
   "execution_count": 68,
   "id": "45e27aa6",
   "metadata": {},
   "outputs": [
    {
     "name": "stdout",
     "output_type": "stream",
     "text": [
      "(None, 200)\n",
      "(None, 200)\n",
      "Model: \"model_4_token_char_embedding_USE\"\n",
      "__________________________________________________________________________________________________\n",
      " Layer (type)                   Output Shape         Param #     Connected to                     \n",
      "==================================================================================================\n",
      " input_5 (InputLayer)           [(None, 1)]          0           []                               \n",
      "                                                                                                  \n",
      " input_4 (InputLayer)           [(None,)]            0           []                               \n",
      "                                                                                                  \n",
      " char_vectorizer (TextVectoriza  (None, 290)         0           ['input_5[0][0]']                \n",
      " tion)                                                                                            \n",
      "                                                                                                  \n",
      " universal_sentence_encoder (Ke  (None, 512)         256797824   ['input_4[0][0]']                \n",
      " rasLayer)                                                                                        \n",
      "                                                                                                  \n",
      " char_embedding (Embedding)     (None, 290, 25)      1750        ['char_vectorizer[1][0]']        \n",
      "                                                                                                  \n",
      " dense_4 (Dense)                (None, 128)          65664       ['universal_sentence_encoder[1][0\n",
      "                                                                 ]']                              \n",
      "                                                                                                  \n",
      " bidirectional (Bidirectional)  (None, 50)           10200       ['char_embedding[1][0]']         \n",
      "                                                                                                  \n",
      " token_char_concat (Concatenate  (None, 178)         0           ['dense_4[0][0]',                \n",
      " )                                                                'bidirectional[0][0]']          \n",
      "                                                                                                  \n",
      " dropout (Dropout)              (None, 178)          0           ['token_char_concat[0][0]']      \n",
      "                                                                                                  \n",
      " dense_5 (Dense)                (None, 200)          35800       ['dropout[0][0]']                \n",
      "                                                                                                  \n",
      " dropout_1 (Dropout)            (None, 200)          0           ['dense_5[0][0]']                \n",
      "                                                                                                  \n",
      " dense_6 (Dense)                (None, 5)            1005        ['dropout_1[0][0]']              \n",
      "                                                                                                  \n",
      "==================================================================================================\n",
      "Total params: 256,912,243\n",
      "Trainable params: 114,419\n",
      "Non-trainable params: 256,797,824\n",
      "__________________________________________________________________________________________________\n"
     ]
    }
   ],
   "source": [
    "token_char_model_concat = layers.Concatenate(name = \"token_char_concat\")([token_model.output,\n",
    "                                               char_model.output])\n",
    "token_char_model_concat.shape\n",
    "\n",
    "\n",
    "concat_models_dropout_1 = layers.Dropout(0.5)(token_char_model_concat)\n",
    "concat_models_dropout_1.shape\n",
    "\n",
    "x = layers.Dense(200, activation = \"relu\")(concat_models_dropout_1)\n",
    "print(x.shape)\n",
    "\n",
    "concat_models_dropout_2 = layers.Dropout(0.5)(x)\n",
    "print(concat_models_dropout_2.shape)\n",
    "\n",
    "\n",
    "output_layer = layers.Dense(num_classes, activation = \"softmax\")(concat_models_dropout_2)\n",
    "\n",
    "\n",
    "model_4 = tf.keras.Model([token_model.input, char_model.input], output_layer, name = \"model_4_token_char_embedding_USE\")\n",
    "\n",
    "model_4.summary()\n"
   ]
  },
  {
   "cell_type": "markdown",
   "id": "54a3d187",
   "metadata": {},
   "source": [
    "### Compile Model 4"
   ]
  },
  {
   "cell_type": "code",
   "execution_count": 69,
   "id": "d7a5b92b",
   "metadata": {},
   "outputs": [],
   "source": [
    "model_4.compile(loss = \"categorical_crossentropy\",\n",
    "               optimizer = \"adam\",\n",
    "               metrics = \"accuracy\")   "
   ]
  },
  {
   "cell_type": "markdown",
   "id": "009a7275",
   "metadata": {},
   "source": [
    "### Fit Model 4"
   ]
  },
  {
   "cell_type": "code",
   "execution_count": 70,
   "id": "652311de",
   "metadata": {},
   "outputs": [
    {
     "name": "stdout",
     "output_type": "stream",
     "text": [
      "Epoch 1/3\n",
      "562/562 [==============================] - 48s 81ms/step - loss: 0.9636 - accuracy: 0.6208 - val_loss: 0.7830 - val_accuracy: 0.6951\n",
      "Epoch 2/3\n",
      "562/562 [==============================] - 48s 86ms/step - loss: 0.7933 - accuracy: 0.6964 - val_loss: 0.7119 - val_accuracy: 0.7337\n",
      "Epoch 3/3\n",
      "562/562 [==============================] - 51s 90ms/step - loss: 0.7639 - accuracy: 0.7070 - val_loss: 0.6868 - val_accuracy: 0.7450\n"
     ]
    }
   ],
   "source": [
    "model_4_history = model_4.fit(train_char_token_dataset,\n",
    "           epochs=3,\n",
    "           steps_per_epoch=(int(0.1*len(train_char_token_dataset))),\n",
    "           validation_data= val_char_token_dataset,\n",
    "           validation_steps=(int(0.1*len(val_char_token_dataset)))                               \n",
    "                              )"
   ]
  },
  {
   "cell_type": "markdown",
   "id": "dd4e8b55",
   "metadata": {},
   "source": [
    "### Evaluate Model 4"
   ]
  },
  {
   "cell_type": "code",
   "execution_count": 71,
   "id": "58f93782",
   "metadata": {},
   "outputs": [
    {
     "name": "stdout",
     "output_type": "stream",
     "text": [
      "945/945 [==============================] - 18s 19ms/step - loss: 0.6937 - accuracy: 0.7357\n",
      "945/945 [==============================] - 19s 19ms/step\n"
     ]
    }
   ],
   "source": [
    "model_4_score = model_4.evaluate(val_char_token_dataset)\n",
    "model_4_pred_probs = model_4.predict(val_char_token_dataset)\n",
    "model_4_preds = tf.argmax(model_4_pred_probs, axis=1)\n",
    "model_4_results = calculate_results(val_labels_encoded, model_4_preds)"
   ]
  },
  {
   "cell_type": "code",
   "execution_count": 72,
   "id": "d58b4649",
   "metadata": {},
   "outputs": [
    {
     "data": {
      "text/plain": [
       "{'accuracy': 73.566794651132,\n",
       " 'precision': 0.7357797872829537,\n",
       " 'recall': 0.7356679465113201,\n",
       " 'f1': 0.7332385040572332}"
      ]
     },
     "execution_count": 72,
     "metadata": {},
     "output_type": "execute_result"
    }
   ],
   "source": [
    "model_4_results"
   ]
  },
  {
   "cell_type": "markdown",
   "id": "fff5aff3",
   "metadata": {},
   "source": [
    "## Model 5\n",
    "\n",
    "\n",
    "Combination of model_4 and positional embedings\n",
    "   - pretrained token embeddings (USE)\n",
    "   - character embeddings \n",
    "   - positional embeddings\n",
    "       - line number\n",
    "       - total lines"
   ]
  },
  {
   "cell_type": "markdown",
   "id": "5935ca72",
   "metadata": {},
   "source": [
    "### Pretrained token embedding model"
   ]
  },
  {
   "cell_type": "code",
   "execution_count": 114,
   "id": "f5d1d068",
   "metadata": {},
   "outputs": [
    {
     "name": "stdout",
     "output_type": "stream",
     "text": [
      "(None,)\n",
      "(None, 512)\n",
      "(None, 128)\n",
      "Model: \"token_model_USE\"\n",
      "_________________________________________________________________\n",
      " Layer (type)                Output Shape              Param #   \n",
      "=================================================================\n",
      " input_11 (InputLayer)       [(None,)]                 0         \n",
      "                                                                 \n",
      " universal_sentence_encoder   (None, 512)              256797824 \n",
      " (KerasLayer)                                                    \n",
      "                                                                 \n",
      " dense_12 (Dense)            (None, 128)               65664     \n",
      "                                                                 \n",
      "=================================================================\n",
      "Total params: 256,863,488\n",
      "Trainable params: 65,664\n",
      "Non-trainable params: 256,797,824\n",
      "_________________________________________________________________\n"
     ]
    }
   ],
   "source": [
    "token_inputs = layers.Input(shape = [], dtype=\"string\")\n",
    "print(token_inputs.shape)\n",
    "\n",
    "x = tf_hub_embedding_layer(token_inputs)\n",
    "print(x.shape)\n",
    "\n",
    "token_outputs = layers.Dense(128, activation = \"relu\")(x)\n",
    "print(token_outputs.shape)\n",
    "\n",
    "token_model = tf.keras.Model(token_inputs, token_outputs, name = \"token_model_USE\")\n",
    "token_model.summary()"
   ]
  },
  {
   "cell_type": "markdown",
   "id": "aca2c7ae",
   "metadata": {},
   "source": [
    "### Character embedding model"
   ]
  },
  {
   "cell_type": "code",
   "execution_count": 115,
   "id": "6bf5b922",
   "metadata": {},
   "outputs": [
    {
     "name": "stdout",
     "output_type": "stream",
     "text": [
      "(None, 1)\n",
      "(None, 290)\n",
      "(None, 290, 25)\n",
      "(None, 290, 25)\n",
      "Model: \"char_model_bd_lstm\"\n",
      "_________________________________________________________________\n",
      " Layer (type)                Output Shape              Param #   \n",
      "=================================================================\n",
      " input_12 (InputLayer)       [(None, 1)]               0         \n",
      "                                                                 \n",
      " char_vectorizer (TextVector  (None, 290)              0         \n",
      " ization)                                                        \n",
      "                                                                 \n",
      " char_embedding (Embedding)  (None, 290, 25)           1750      \n",
      "                                                                 \n",
      " bidirectional_3 (Bidirectio  (None, 50)               10200     \n",
      " nal)                                                            \n",
      "                                                                 \n",
      "=================================================================\n",
      "Total params: 11,950\n",
      "Trainable params: 11,950\n",
      "Non-trainable params: 0\n",
      "_________________________________________________________________\n"
     ]
    }
   ],
   "source": [
    "char_inputs = layers.Input(shape=(1,), dtype=\"string\")\n",
    "print(char_inputs.shape)\n",
    "\n",
    "x = char_vectorizer(char_inputs)\n",
    "print(x.shape)\n",
    "\n",
    "x = char_embed(x)\n",
    "print(x.shape)\n",
    "\n",
    "\n",
    "char_outputs = layers.Bidirectional(layers.LSTM(25))(x)\n",
    "print(x.shape)\n",
    "\n",
    "char_model = tf.keras.Model(char_inputs, char_outputs, name = \"char_model_bd_lstm\")\n",
    "char_model.summary()\n"
   ]
  },
  {
   "cell_type": "markdown",
   "id": "c80617e5",
   "metadata": {},
   "source": [
    "### Line number model"
   ]
  },
  {
   "cell_type": "code",
   "execution_count": 116,
   "id": "4b58ed7a",
   "metadata": {},
   "outputs": [
    {
     "name": "stdout",
     "output_type": "stream",
     "text": [
      "(None, 1)\n",
      "(None, 32)\n"
     ]
    }
   ],
   "source": [
    "inputs_line_num = layers.Input(shape=(15,), dtype=tf.float32)\n",
    "print(inputs.shape)\n",
    "\n",
    "x = layers.Dense(32, activation = \"relu\")(inputs_line_num)\n",
    "print(x.shape)\n",
    "\n",
    "line_num_model = tf.keras.Model(inputs_line_num,x)"
   ]
  },
  {
   "cell_type": "markdown",
   "id": "8d10d2f8",
   "metadata": {},
   "source": [
    "### Total lines model"
   ]
  },
  {
   "cell_type": "code",
   "execution_count": 117,
   "id": "c6df8612",
   "metadata": {},
   "outputs": [
    {
     "name": "stdout",
     "output_type": "stream",
     "text": [
      "(None, 15)\n",
      "(None, 32)\n"
     ]
    }
   ],
   "source": [
    "inputs_total_lines = layers.Input(shape=(20,), dtype=tf.float32)\n",
    "print(inputs_line_num.shape)\n",
    "\n",
    "x = layers.Dense(32, activation = \"relu\")(inputs_total_lines)\n",
    "print(x.shape)\n",
    "\n",
    "total_lines_model = tf.keras.Model(inputs_total_lines,x)"
   ]
  },
  {
   "cell_type": "markdown",
   "id": "23b1a219",
   "metadata": {},
   "source": [
    "### Concatenate token & character model"
   ]
  },
  {
   "cell_type": "code",
   "execution_count": 118,
   "id": "c7fc4c9c",
   "metadata": {},
   "outputs": [
    {
     "name": "stdout",
     "output_type": "stream",
     "text": [
      "(None, 200)\n",
      "(None, 200)\n"
     ]
    }
   ],
   "source": [
    "token_char_model_concat = layers.Concatenate(name = \"token_char_concat\")([token_model.output,\n",
    "                                               char_model.output                    \n",
    "                                                        ])\n",
    "token_char_model_concat.shape\n",
    "\n",
    "token_char_model_concat = layers.Dropout(0.5)(token_char_model_concat)\n",
    "token_char_model_concat.shape\n",
    "\n",
    "token_char_model_concat = layers.Dense(200, activation = \"relu\")(token_char_model_concat)\n",
    "print(token_char_model_concat.shape)\n",
    "\n",
    "token_char_model_concat = layers.Dropout(0.5)(token_char_model_concat)\n",
    "print(token_char_model_concat.shape)"
   ]
  },
  {
   "cell_type": "markdown",
   "id": "167454e7",
   "metadata": {},
   "source": [
    "### Concatenate  positional models"
   ]
  },
  {
   "cell_type": "code",
   "execution_count": 119,
   "id": "db3eae35",
   "metadata": {},
   "outputs": [],
   "source": [
    "positional_models_concat = layers.Concatenate(name =\"line_num_total_lines_concat\")([line_num_model.output, \n",
    "                   total_lines_model.output])"
   ]
  },
  {
   "cell_type": "markdown",
   "id": "5e5f7b21",
   "metadata": {},
   "source": [
    "### Concatenate positional models with token & char model"
   ]
  },
  {
   "cell_type": "code",
   "execution_count": 120,
   "id": "4109b3a3",
   "metadata": {},
   "outputs": [],
   "source": [
    "token_char_pos_concat=layers.Concatenate()([token_char_model_concat, positional_models_concat])\n",
    "\n",
    "models_output = tf.keras.layers.Dense(num_classes, activation = \"softmax\")(token_char_pos_concat)"
   ]
  },
  {
   "cell_type": "markdown",
   "id": "f59e282e",
   "metadata": {},
   "source": [
    "### Create Model 5"
   ]
  },
  {
   "cell_type": "code",
   "execution_count": 121,
   "id": "49ebc84f",
   "metadata": {},
   "outputs": [
    {
     "name": "stdout",
     "output_type": "stream",
     "text": [
      "Model: \"model_5_tribrid_token_char_pos_embedding_USE\"\n",
      "__________________________________________________________________________________________________\n",
      " Layer (type)                   Output Shape         Param #     Connected to                     \n",
      "==================================================================================================\n",
      " input_12 (InputLayer)          [(None, 1)]          0           []                               \n",
      "                                                                                                  \n",
      " input_11 (InputLayer)          [(None,)]            0           []                               \n",
      "                                                                                                  \n",
      " char_vectorizer (TextVectoriza  (None, 290)         0           ['input_12[0][0]']               \n",
      " tion)                                                                                            \n",
      "                                                                                                  \n",
      " universal_sentence_encoder (Ke  (None, 512)         256797824   ['input_11[0][0]']               \n",
      " rasLayer)                                                                                        \n",
      "                                                                                                  \n",
      " char_embedding (Embedding)     (None, 290, 25)      1750        ['char_vectorizer[4][0]']        \n",
      "                                                                                                  \n",
      " dense_12 (Dense)               (None, 128)          65664       ['universal_sentence_encoder[3][0\n",
      "                                                                 ]']                              \n",
      "                                                                                                  \n",
      " bidirectional_3 (Bidirectional  (None, 50)          10200       ['char_embedding[4][0]']         \n",
      " )                                                                                                \n",
      "                                                                                                  \n",
      " token_char_concat (Concatenate  (None, 178)         0           ['dense_12[0][0]',               \n",
      " )                                                                'bidirectional_3[0][0]']        \n",
      "                                                                                                  \n",
      " dropout_4 (Dropout)            (None, 178)          0           ['token_char_concat[0][0]']      \n",
      "                                                                                                  \n",
      " input_13 (InputLayer)          [(None, 15)]         0           []                               \n",
      "                                                                                                  \n",
      " input_14 (InputLayer)          [(None, 20)]         0           []                               \n",
      "                                                                                                  \n",
      " dense_15 (Dense)               (None, 200)          35800       ['dropout_4[0][0]']              \n",
      "                                                                                                  \n",
      " dense_13 (Dense)               (None, 32)           512         ['input_13[0][0]']               \n",
      "                                                                                                  \n",
      " dense_14 (Dense)               (None, 32)           672         ['input_14[0][0]']               \n",
      "                                                                                                  \n",
      " dropout_5 (Dropout)            (None, 200)          0           ['dense_15[0][0]']               \n",
      "                                                                                                  \n",
      " line_num_total_lines_concat (C  (None, 64)          0           ['dense_13[0][0]',               \n",
      " oncatenate)                                                      'dense_14[0][0]']               \n",
      "                                                                                                  \n",
      " concatenate_1 (Concatenate)    (None, 264)          0           ['dropout_5[0][0]',              \n",
      "                                                                  'line_num_total_lines_concat[0][\n",
      "                                                                 0]']                             \n",
      "                                                                                                  \n",
      " dense_16 (Dense)               (None, 5)            1325        ['concatenate_1[0][0]']          \n",
      "                                                                                                  \n",
      "==================================================================================================\n",
      "Total params: 256,913,747\n",
      "Trainable params: 115,923\n",
      "Non-trainable params: 256,797,824\n",
      "__________________________________________________________________________________________________\n"
     ]
    }
   ],
   "source": [
    "model_5 = tf.keras.Model([\n",
    "                token_model.input,\n",
    "                char_model.input,\n",
    "                line_num_model.input,\n",
    "                total_lines_model.input\n",
    "],\n",
    "              models_output,\n",
    "name = \"model_5_tribrid_token_char_pos_embedding_USE\")\n",
    "\n",
    "model_5.summary()"
   ]
  },
  {
   "cell_type": "markdown",
   "id": "01c852a1",
   "metadata": {},
   "source": [
    "### Compile Model 5"
   ]
  },
  {
   "cell_type": "code",
   "execution_count": 82,
   "id": "3a1cc6ee",
   "metadata": {},
   "outputs": [],
   "source": [
    "model_5.compile(loss=tf.keras.losses.CategoricalCrossentropy(label_smoothing=0.2), # add label smoothing (examples which are really confident get smoothed a little)\n",
    "                optimizer=tf.keras.optimizers.Adam(),\n",
    "                metrics=[\"accuracy\"])\n"
   ]
  },
  {
   "cell_type": "markdown",
   "id": "2e1ef203",
   "metadata": {},
   "source": [
    "### Fit Model 5"
   ]
  },
  {
   "cell_type": "code",
   "execution_count": 83,
   "id": "aaca1832",
   "metadata": {},
   "outputs": [
    {
     "name": "stdout",
     "output_type": "stream",
     "text": [
      "Epoch 1/3\n",
      "562/562 [==============================] - 54s 92ms/step - loss: 1.1269 - accuracy: 0.7006 - val_loss: 0.9921 - val_accuracy: 0.8039\n",
      "Epoch 2/3\n",
      "562/562 [==============================] - 51s 90ms/step - loss: 0.9926 - accuracy: 0.7988 - val_loss: 0.9573 - val_accuracy: 0.8218\n",
      "Epoch 3/3\n",
      "562/562 [==============================] - 51s 90ms/step - loss: 0.9748 - accuracy: 0.8059 - val_loss: 0.9492 - val_accuracy: 0.8258\n"
     ]
    }
   ],
   "source": [
    "model_5_history = model_5.fit(train_token_char_pos_dataset,\n",
    "                              steps_per_epoch=int(0.1 * len(train_token_char_pos_dataset)),\n",
    "                              epochs=3,\n",
    "                              validation_data= val_token_char_pos_dataset,\n",
    "                              validation_steps=int(0.1*len(val_token_char_pos_dataset)))\n",
    "                              "
   ]
  },
  {
   "cell_type": "markdown",
   "id": "2a804624",
   "metadata": {},
   "source": [
    "### Evaluate Model 5"
   ]
  },
  {
   "cell_type": "code",
   "execution_count": 84,
   "id": "972fc3a7",
   "metadata": {},
   "outputs": [
    {
     "name": "stdout",
     "output_type": "stream",
     "text": [
      "945/945 [==============================] - 18s 19ms/step - loss: 0.9467 - accuracy: 0.8268\n",
      "945/945 [==============================] - 19s 19ms/step\n"
     ]
    }
   ],
   "source": [
    "model_5_score = model_5.evaluate(val_token_char_pos_dataset)\n",
    "model_5_pred_probs = model_5.predict(val_token_char_pos_dataset)\n",
    "model_5_preds = tf.argmax(model_5_pred_probs, axis=1)\n",
    "model_5_results = calculate_results(val_labels_encoded, model_5_preds)\n"
   ]
  },
  {
   "cell_type": "code",
   "execution_count": 85,
   "id": "280085c3",
   "metadata": {},
   "outputs": [
    {
     "data": {
      "text/plain": [
       "{'accuracy': 82.67906792003178,\n",
       " 'precision': 0.8260605641903375,\n",
       " 'recall': 0.8267906792003178,\n",
       " 'f1': 0.8251899774612532}"
      ]
     },
     "execution_count": 85,
     "metadata": {},
     "output_type": "execute_result"
    }
   ],
   "source": [
    "model_5_results"
   ]
  },
  {
   "cell_type": "markdown",
   "id": "ce742172",
   "metadata": {},
   "source": [
    "## Compare Model's Results\n",
    "\n",
    "- display bar graph of model's results\n",
    "- display bar graph of model's F1 scores"
   ]
  },
  {
   "cell_type": "code",
   "execution_count": 86,
   "id": "c83231a9",
   "metadata": {},
   "outputs": [],
   "source": [
    "models_results = pd.DataFrame([baseline_results, \n",
    "              model_1_results,\n",
    "              model_2_results,\n",
    "              model_3_results,\n",
    "              model_4_results,\n",
    "              model_5_results\n",
    "             ],\n",
    "              \n",
    "            index=[\"sklearn_baseline\", \n",
    "                   \"custom_token_embed_conv1d\", \n",
    "                   \"pretrained_token_embed_USE\", \n",
    "                   \"custom_char_embed_conv1d\",\n",
    "                   \"hybrid_char_token_embed\",\n",
    "                   \"tribrid_token_char_pos_embed\"])"
   ]
  },
  {
   "cell_type": "code",
   "execution_count": 87,
   "id": "9c3ff875",
   "metadata": {},
   "outputs": [],
   "source": [
    "#scale accuracy\n",
    "models_results.accuracy = models_results.accuracy/100"
   ]
  },
  {
   "cell_type": "code",
   "execution_count": 88,
   "id": "bea51d62",
   "metadata": {},
   "outputs": [
    {
     "data": {
      "image/png": "[encoded data removed]",
      "text/plain": [
       "<Figure size 640x480 with 1 Axes>"
      ]
     },
     "metadata": {},
     "output_type": "display_data"
    }
   ],
   "source": [
    "models_results.plot.bar();\n",
    "plt.legend(bbox_to_anchor=(1, 1));\n",
    "plt.title(\"Model's Evaluations\");"
   ]
  },
  {
   "cell_type": "code",
   "execution_count": 111,
   "id": "d4afca7b",
   "metadata": {},
   "outputs": [
    {
     "data": {
      "image/png": "[encoded data removed]",
      "text/plain": [
       "<Figure size 640x480 with 1 Axes>"
      ]
     },
     "metadata": {},
     "output_type": "display_data"
    }
   ],
   "source": [
    "models_results.f1.sort_values(ascending=False).plot.bar();\n",
    "plt.title(\"Model's F1 Scores\");"
   ]
  },
  {
   "cell_type": "markdown",
   "id": "ef06dc5d",
   "metadata": {},
   "source": [
    "## Evaluate Model 5 on test_data"
   ]
  },
  {
   "cell_type": "code",
   "execution_count": 90,
   "id": "0c541df3",
   "metadata": {},
   "outputs": [
    {
     "name": "stdout",
     "output_type": "stream",
     "text": [
      "942/942 [==============================] - 18s 19ms/step - loss: 0.9539 - accuracy: 0.8228\n",
      "942/942 [==============================] - 18s 19ms/step\n"
     ]
    }
   ],
   "source": [
    "model_5.evaluate(test_token_char_pos_dataset)\n",
    "test_pred_probs = model_5.predict(test_token_char_pos_dataset)\n",
    "test_preds = np.argmax(test_pred_probs, axis = 1)\n",
    "model_5_test_results = calculate_results(test_labels_encoded, test_preds)"
   ]
  },
  {
   "cell_type": "code",
   "execution_count": 91,
   "id": "306f7715",
   "metadata": {},
   "outputs": [
    {
     "data": {
      "text/plain": [
       "{'accuracy': 82.27642276422765,\n",
       " 'precision': 0.8216055702866272,\n",
       " 'recall': 0.8227642276422764,\n",
       " 'f1': 0.8210884885192647}"
      ]
     },
     "execution_count": 91,
     "metadata": {},
     "output_type": "execute_result"
    }
   ],
   "source": [
    "model_5_test_results"
   ]
  },
  {
   "cell_type": "markdown",
   "id": "a2683c24",
   "metadata": {},
   "source": [
    "### Save and load Model 5 using SavedModel format"
   ]
  },
  {
   "cell_type": "code",
   "execution_count": 92,
   "id": "c4e34b86",
   "metadata": {},
   "outputs": [
    {
     "name": "stderr",
     "output_type": "stream",
     "text": [
      "WARNING:absl:Found untraced functions such as lstm_cell_4_layer_call_fn, lstm_cell_4_layer_call_and_return_conditional_losses, lstm_cell_5_layer_call_fn, lstm_cell_5_layer_call_and_return_conditional_losses while saving (showing 4 of 4). These functions will not be directly callable after loading.\n"
     ]
    },
    {
     "name": "stdout",
     "output_type": "stream",
     "text": [
      "INFO:tensorflow:Assets written to: model_5_SavedModel_format/assets\n"
     ]
    },
    {
     "name": "stderr",
     "output_type": "stream",
     "text": [
      "INFO:tensorflow:Assets written to: model_5_SavedModel_format/assets\n"
     ]
    }
   ],
   "source": [
    "model_5.save(filepath=\"model_5_SavedModel_format\")\n",
    "loaded_model_5 = tf.keras.models.load_model(\"model_5_SavedModel_format\")"
   ]
  },
  {
   "cell_type": "markdown",
   "id": "ec57d0ef",
   "metadata": {},
   "source": [
    "## The most wrong predictions\n",
    "- create a dataframe on model's incorrect predictions on the test data\n",
    "- display model's top 10 incorrect predictions with high prediction probabilities"
   ]
  },
  {
   "cell_type": "code",
   "execution_count": 95,
   "id": "2e4bf59f",
   "metadata": {},
   "outputs": [],
   "source": [
    "test_df[\"pred_prob\"] = np.max(test_pred_probs, axis = 1)\n",
    "test_df[\"prediction\"] = class_names[np.argmax(test_pred_probs, axis = 1)]"
   ]
  },
  {
   "cell_type": "code",
   "execution_count": 96,
   "id": "ba0eb7dc",
   "metadata": {},
   "outputs": [
    {
     "data": {
      "text/html": [
       "<div>\n",
       "<style scoped>\n",
       "    .dataframe tbody tr th:only-of-type {\n",
       "        vertical-align: middle;\n",
       "    }\n",
       "\n",
       "    .dataframe tbody tr th {\n",
       "        vertical-align: top;\n",
       "    }\n",
       "\n",
       "    .dataframe thead th {\n",
       "        text-align: right;\n",
       "    }\n",
       "</style>\n",
       "<table border=\"1\" class=\"dataframe\">\n",
       "  <thead>\n",
       "    <tr style=\"text-align: right;\">\n",
       "      <th></th>\n",
       "      <th>target</th>\n",
       "      <th>text</th>\n",
       "      <th>line_number</th>\n",
       "      <th>total_lines</th>\n",
       "      <th>pred_prob</th>\n",
       "      <th>prediction</th>\n",
       "    </tr>\n",
       "  </thead>\n",
       "  <tbody>\n",
       "    <tr>\n",
       "      <th>16347</th>\n",
       "      <td>BACKGROUND</td>\n",
       "      <td>to evaluate the effects of the lactic acid bac...</td>\n",
       "      <td>0</td>\n",
       "      <td>12</td>\n",
       "      <td>0.917664</td>\n",
       "      <td>OBJECTIVE</td>\n",
       "    </tr>\n",
       "    <tr>\n",
       "      <th>13598</th>\n",
       "      <td>METHODS</td>\n",
       "      <td>-@ % vs. fish : -@ % vs. fish + s : -@ % ; p &lt;...</td>\n",
       "      <td>6</td>\n",
       "      <td>9</td>\n",
       "      <td>0.915587</td>\n",
       "      <td>RESULTS</td>\n",
       "    </tr>\n",
       "    <tr>\n",
       "      <th>13874</th>\n",
       "      <td>CONCLUSIONS</td>\n",
       "      <td>symptom outcomes will be assessed and estimate...</td>\n",
       "      <td>4</td>\n",
       "      <td>6</td>\n",
       "      <td>0.907085</td>\n",
       "      <td>METHODS</td>\n",
       "    </tr>\n",
       "    <tr>\n",
       "      <th>29294</th>\n",
       "      <td>RESULTS</td>\n",
       "      <td>baseline measures included sociodemographics ,...</td>\n",
       "      <td>4</td>\n",
       "      <td>13</td>\n",
       "      <td>0.906195</td>\n",
       "      <td>METHODS</td>\n",
       "    </tr>\n",
       "    <tr>\n",
       "      <th>3573</th>\n",
       "      <td>RESULTS</td>\n",
       "      <td>a cluster randomised trial was implemented wit...</td>\n",
       "      <td>3</td>\n",
       "      <td>16</td>\n",
       "      <td>0.902385</td>\n",
       "      <td>METHODS</td>\n",
       "    </tr>\n",
       "    <tr>\n",
       "      <th>1221</th>\n",
       "      <td>RESULTS</td>\n",
       "      <td>data were collected prospectively for @ months...</td>\n",
       "      <td>3</td>\n",
       "      <td>13</td>\n",
       "      <td>0.899961</td>\n",
       "      <td>METHODS</td>\n",
       "    </tr>\n",
       "    <tr>\n",
       "      <th>6027</th>\n",
       "      <td>RESULTS</td>\n",
       "      <td>patients were randomized in a bayesian respons...</td>\n",
       "      <td>4</td>\n",
       "      <td>15</td>\n",
       "      <td>0.897010</td>\n",
       "      <td>METHODS</td>\n",
       "    </tr>\n",
       "    <tr>\n",
       "      <th>697</th>\n",
       "      <td>RESULTS</td>\n",
       "      <td>a screening questionnaire for moh was sent to ...</td>\n",
       "      <td>4</td>\n",
       "      <td>14</td>\n",
       "      <td>0.891989</td>\n",
       "      <td>METHODS</td>\n",
       "    </tr>\n",
       "    <tr>\n",
       "      <th>4593</th>\n",
       "      <td>METHODS</td>\n",
       "      <td>this study provides class ii evidence that reg...</td>\n",
       "      <td>11</td>\n",
       "      <td>11</td>\n",
       "      <td>0.891271</td>\n",
       "      <td>CONCLUSIONS</td>\n",
       "    </tr>\n",
       "    <tr>\n",
       "      <th>835</th>\n",
       "      <td>BACKGROUND</td>\n",
       "      <td>to assess the temporal patterns of late gastro...</td>\n",
       "      <td>0</td>\n",
       "      <td>11</td>\n",
       "      <td>0.890393</td>\n",
       "      <td>OBJECTIVE</td>\n",
       "    </tr>\n",
       "  </tbody>\n",
       "</table>\n",
       "</div>"
      ],
      "text/plain": [
       "            target                                               text  \\\n",
       "16347   BACKGROUND  to evaluate the effects of the lactic acid bac...   \n",
       "13598      METHODS  -@ % vs. fish : -@ % vs. fish + s : -@ % ; p <...   \n",
       "13874  CONCLUSIONS  symptom outcomes will be assessed and estimate...   \n",
       "29294      RESULTS  baseline measures included sociodemographics ,...   \n",
       "3573       RESULTS  a cluster randomised trial was implemented wit...   \n",
       "1221       RESULTS  data were collected prospectively for @ months...   \n",
       "6027       RESULTS  patients were randomized in a bayesian respons...   \n",
       "697        RESULTS  a screening questionnaire for moh was sent to ...   \n",
       "4593       METHODS  this study provides class ii evidence that reg...   \n",
       "835     BACKGROUND  to assess the temporal patterns of late gastro...   \n",
       "\n",
       "       line_number  total_lines  pred_prob   prediction  \n",
       "16347            0           12   0.917664    OBJECTIVE  \n",
       "13598            6            9   0.915587      RESULTS  \n",
       "13874            4            6   0.907085      METHODS  \n",
       "29294            4           13   0.906195      METHODS  \n",
       "3573             3           16   0.902385      METHODS  \n",
       "1221             3           13   0.899961      METHODS  \n",
       "6027             4           15   0.897010      METHODS  \n",
       "697              4           14   0.891989      METHODS  \n",
       "4593            11           11   0.891271  CONCLUSIONS  \n",
       "835              0           11   0.890393    OBJECTIVE  "
      ]
     },
     "execution_count": 96,
     "metadata": {},
     "output_type": "execute_result"
    }
   ],
   "source": [
    "most_wrong = test_df[test_df.target != test_df.prediction].sort_values(by = \"pred_prob\", ascending=False)\n",
    "most_wrong.head(10)"
   ]
  },
  {
   "cell_type": "markdown",
   "id": "add4da88",
   "metadata": {},
   "source": [
    "## Predictions on an abstract from the wild "
   ]
  },
  {
   "cell_type": "code",
   "execution_count": 97,
   "id": "5e6bba09",
   "metadata": {},
   "outputs": [],
   "source": [
    "custom_abstracts = get_lines(\"custom_abstracts/skimlit_example_abstracts.json\")\n",
    "# using get_lines function to read JSON file and store abstracts\n",
    "\n",
    "\n",
    "abs_list = [] #empty list to store all numbered abstracts\n",
    "abs_sentences = [] #empty list to store contents of individual abstract\n",
    "\n",
    "\n",
    "for num, items in enumerate(custom_abstracts[0].split(\"abstract\")):\n",
    "    dict = {\n",
    "       \"abs_num\": num,\n",
    "       \"abstract\": items\n",
    "\n",
    "    }\n",
    "    \n",
    "    abs_list.append(dict) \n",
    "    #loops and adds all abstacts with an assigned number\n",
    "    \n",
    "    \n",
    "    \n",
    "abstract_text = abs_list[1][\"abstract\"]\n",
    "\n",
    "for num, sentence in enumerate(abstract_text.split(\".\")):\n",
    "    dict = {\n",
    "        \n",
    "        \"line_number\": num,\n",
    "        \"total_lines\": len(abstract_text.split(\".\")) - 6,\n",
    "        \"text\": sentence\n",
    "    }\n",
    "    \n",
    "    abs_sentences.append(dict)\n",
    "    \n",
    "    '''\n",
    "    loops through specified abstract and stores each line as a dictionary \n",
    "\n",
    "\n",
    "    ex.  {'line_number': 0,\n",
    "      'total_lines': 7,\n",
    "      'text': '\": \"This RCT examined the efficacy of a manualized social intervention for children with HFASDs'}\n",
    "\n",
    "    '''"
   ]
  },
  {
   "cell_type": "markdown",
   "id": "f3c2de89",
   "metadata": {},
   "source": [
    "### Create Dataframe to store abstract details"
   ]
  },
  {
   "cell_type": "code",
   "execution_count": 105,
   "id": "584a8c69",
   "metadata": {},
   "outputs": [
    {
     "data": {
      "text/html": [
       "<div>\n",
       "<style scoped>\n",
       "    .dataframe tbody tr th:only-of-type {\n",
       "        vertical-align: middle;\n",
       "    }\n",
       "\n",
       "    .dataframe tbody tr th {\n",
       "        vertical-align: top;\n",
       "    }\n",
       "\n",
       "    .dataframe thead th {\n",
       "        text-align: right;\n",
       "    }\n",
       "</style>\n",
       "<table border=\"1\" class=\"dataframe\">\n",
       "  <thead>\n",
       "    <tr style=\"text-align: right;\">\n",
       "      <th></th>\n",
       "      <th>line_number</th>\n",
       "      <th>total_lines</th>\n",
       "      <th>text</th>\n",
       "    </tr>\n",
       "  </thead>\n",
       "  <tbody>\n",
       "    <tr>\n",
       "      <th>0</th>\n",
       "      <td>0</td>\n",
       "      <td>7</td>\n",
       "      <td>\": \"This RCT examined the efficacy of a manual...</td>\n",
       "    </tr>\n",
       "    <tr>\n",
       "      <th>1</th>\n",
       "      <td>1</td>\n",
       "      <td>7</td>\n",
       "      <td>Participants were randomly assigned to treatm...</td>\n",
       "    </tr>\n",
       "    <tr>\n",
       "      <th>2</th>\n",
       "      <td>2</td>\n",
       "      <td>7</td>\n",
       "      <td>Treatment included instruction and therapeuti...</td>\n",
       "    </tr>\n",
       "    <tr>\n",
       "      <th>3</th>\n",
       "      <td>3</td>\n",
       "      <td>7</td>\n",
       "      <td>A response-cost program was applied to reduce...</td>\n",
       "    </tr>\n",
       "    <tr>\n",
       "      <th>4</th>\n",
       "      <td>4</td>\n",
       "      <td>7</td>\n",
       "      <td>Significant treatment effects were found for ...</td>\n",
       "    </tr>\n",
       "    <tr>\n",
       "      <th>5</th>\n",
       "      <td>5</td>\n",
       "      <td>7</td>\n",
       "      <td>Secondary measures based on staff ratings (tr...</td>\n",
       "    </tr>\n",
       "    <tr>\n",
       "      <th>6</th>\n",
       "      <td>6</td>\n",
       "      <td>7</td>\n",
       "      <td>High levels of parent, child and staff satisf...</td>\n",
       "    </tr>\n",
       "    <tr>\n",
       "      <th>7</th>\n",
       "      <td>7</td>\n",
       "      <td>7</td>\n",
       "      <td>Standardized effect size estimates were prima...</td>\n",
       "    </tr>\n",
       "  </tbody>\n",
       "</table>\n",
       "</div>"
      ],
      "text/plain": [
       "   line_number  total_lines                                               text\n",
       "0            0            7  \": \"This RCT examined the efficacy of a manual...\n",
       "1            1            7   Participants were randomly assigned to treatm...\n",
       "2            2            7   Treatment included instruction and therapeuti...\n",
       "3            3            7   A response-cost program was applied to reduce...\n",
       "4            4            7   Significant treatment effects were found for ...\n",
       "5            5            7   Secondary measures based on staff ratings (tr...\n",
       "6            6            7   High levels of parent, child and staff satisf...\n",
       "7            7            7   Standardized effect size estimates were prima..."
      ]
     },
     "execution_count": 105,
     "metadata": {},
     "output_type": "execute_result"
    }
   ],
   "source": [
    "custom_abstract_df = pd.DataFrame(abs_sentences)\n",
    "custom_abstract_df"
   ]
  },
  {
   "cell_type": "markdown",
   "id": "6ef3c215",
   "metadata": {},
   "source": [
    "### Transform data and predict using Model 5"
   ]
  },
  {
   "cell_type": "code",
   "execution_count": 108,
   "id": "8ccfe7ff",
   "metadata": {},
   "outputs": [],
   "source": [
    "custom_abs_line_num = tf.one_hot(custom_abstract_df.line_number, depth=15)\n",
    "custom_abs_total_line = tf.one_hot(custom_abstract_df.total_lines, depth=20)\n",
    "custom_abs_chars = [\" \".join(list(sentence)) for sentence in custom_abstract_df.text]\n",
    "custom_abs_sentence = [sentence for sentence in custom_abstract_df.text]"
   ]
  },
  {
   "cell_type": "code",
   "execution_count": 109,
   "id": "8079183f",
   "metadata": {},
   "outputs": [
    {
     "name": "stdout",
     "output_type": "stream",
     "text": [
      "1/1 [==============================] - 1s 885ms/step\n"
     ]
    }
   ],
   "source": [
    "custom_abs_pred_probs = loaded_model_5.predict(x = (tf.constant(custom_abs_sentence),\n",
    "                           tf.constant(custom_abs_chars),\n",
    "                           custom_abs_line_num,\n",
    "                           custom_abs_total_line\n",
    "                          ))"
   ]
  },
  {
   "cell_type": "markdown",
   "id": "db366697",
   "metadata": {},
   "source": [
    "### Insert Predictions into Custom Abstract Dataframe"
   ]
  },
  {
   "cell_type": "code",
   "execution_count": 110,
   "id": "f83aeb48",
   "metadata": {},
   "outputs": [
    {
     "data": {
      "text/html": [
       "<div>\n",
       "<style scoped>\n",
       "    .dataframe tbody tr th:only-of-type {\n",
       "        vertical-align: middle;\n",
       "    }\n",
       "\n",
       "    .dataframe tbody tr th {\n",
       "        vertical-align: top;\n",
       "    }\n",
       "\n",
       "    .dataframe thead th {\n",
       "        text-align: right;\n",
       "    }\n",
       "</style>\n",
       "<table border=\"1\" class=\"dataframe\">\n",
       "  <thead>\n",
       "    <tr style=\"text-align: right;\">\n",
       "      <th></th>\n",
       "      <th>line_number</th>\n",
       "      <th>total_lines</th>\n",
       "      <th>text</th>\n",
       "      <th>prediction</th>\n",
       "    </tr>\n",
       "  </thead>\n",
       "  <tbody>\n",
       "    <tr>\n",
       "      <th>0</th>\n",
       "      <td>0</td>\n",
       "      <td>7</td>\n",
       "      <td>\": \"This RCT examined the efficacy of a manual...</td>\n",
       "      <td>OBJECTIVE</td>\n",
       "    </tr>\n",
       "    <tr>\n",
       "      <th>1</th>\n",
       "      <td>1</td>\n",
       "      <td>7</td>\n",
       "      <td>Participants were randomly assigned to treatm...</td>\n",
       "      <td>METHODS</td>\n",
       "    </tr>\n",
       "    <tr>\n",
       "      <th>2</th>\n",
       "      <td>2</td>\n",
       "      <td>7</td>\n",
       "      <td>Treatment included instruction and therapeuti...</td>\n",
       "      <td>METHODS</td>\n",
       "    </tr>\n",
       "    <tr>\n",
       "      <th>3</th>\n",
       "      <td>3</td>\n",
       "      <td>7</td>\n",
       "      <td>A response-cost program was applied to reduce...</td>\n",
       "      <td>METHODS</td>\n",
       "    </tr>\n",
       "    <tr>\n",
       "      <th>4</th>\n",
       "      <td>4</td>\n",
       "      <td>7</td>\n",
       "      <td>Significant treatment effects were found for ...</td>\n",
       "      <td>METHODS</td>\n",
       "    </tr>\n",
       "    <tr>\n",
       "      <th>5</th>\n",
       "      <td>5</td>\n",
       "      <td>7</td>\n",
       "      <td>Secondary measures based on staff ratings (tr...</td>\n",
       "      <td>METHODS</td>\n",
       "    </tr>\n",
       "    <tr>\n",
       "      <th>6</th>\n",
       "      <td>6</td>\n",
       "      <td>7</td>\n",
       "      <td>High levels of parent, child and staff satisf...</td>\n",
       "      <td>RESULTS</td>\n",
       "    </tr>\n",
       "    <tr>\n",
       "      <th>7</th>\n",
       "      <td>7</td>\n",
       "      <td>7</td>\n",
       "      <td>Standardized effect size estimates were prima...</td>\n",
       "      <td>RESULTS</td>\n",
       "    </tr>\n",
       "  </tbody>\n",
       "</table>\n",
       "</div>"
      ],
      "text/plain": [
       "   line_number  total_lines  \\\n",
       "0            0            7   \n",
       "1            1            7   \n",
       "2            2            7   \n",
       "3            3            7   \n",
       "4            4            7   \n",
       "5            5            7   \n",
       "6            6            7   \n",
       "7            7            7   \n",
       "\n",
       "                                                text prediction  \n",
       "0  \": \"This RCT examined the efficacy of a manual...  OBJECTIVE  \n",
       "1   Participants were randomly assigned to treatm...    METHODS  \n",
       "2   Treatment included instruction and therapeuti...    METHODS  \n",
       "3   A response-cost program was applied to reduce...    METHODS  \n",
       "4   Significant treatment effects were found for ...    METHODS  \n",
       "5   Secondary measures based on staff ratings (tr...    METHODS  \n",
       "6   High levels of parent, child and staff satisf...    RESULTS  \n",
       "7   Standardized effect size estimates were prima...    RESULTS  "
      ]
     },
     "execution_count": 110,
     "metadata": {},
     "output_type": "execute_result"
    }
   ],
   "source": [
    "custom_abstract_df[\"prediction\"] = class_names[tf.argmax(custom_abs_pred_probs, axis= 1)]\n",
    "custom_abstract_df"
   ]
  }
 ],
 "metadata": {
  "kernelspec": {
   "display_name": "Python 3 (ipykernel)",
   "language": "python",
   "name": "python3"
  },
  "language_info": {
   "codemirror_mode": {
    "name": "ipython",
    "version": 3
   },
   "file_extension": ".py",
   "mimetype": "text/x-python",
   "name": "python",
   "nbconvert_exporter": "python",
   "pygments_lexer": "ipython3",
   "version": "3.10.10"
  }
 },
 "nbformat": 4,
 "nbformat_minor": 5
}
